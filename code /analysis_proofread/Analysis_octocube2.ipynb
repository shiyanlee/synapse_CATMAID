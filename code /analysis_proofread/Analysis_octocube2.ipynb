{
 "cells": [
  {
   "cell_type": "code",
   "execution_count": 1,
   "id": "827f6f62-b170-40a6-b4f9-773a42952f0d",
   "metadata": {},
   "outputs": [
    {
     "name": "stderr",
     "output_type": "stream",
     "text": [
      "INFO  : Global CATMAID instance set. Caching is ON. (pymaid)\n"
     ]
    }
   ],
   "source": [
    "import pymaid\n",
    "\n",
    "url = \"https://neurophyla.mrc-lmb.cam.ac.uk/catmaid/fibsem/#\"\n",
    "token = \"4fe0c0572331265c61bf6ba4acd77cbed9792276\"\n",
    "name = \"SYLee\"\n",
    "password = \"Blue Skies\"\n",
    "# project_id = 19\n",
    "project_id = 18\n",
    "rm = pymaid.CatmaidInstance(url, token, name, password, project_id)"
   ]
  },
  {
   "cell_type": "code",
   "execution_count": null,
   "id": "f697b6ce-4b58-4fd7-bfba-7ec01b34524b",
   "metadata": {},
   "outputs": [],
   "source": [
    "# Read the CSV\n",
    "neuron = pymaid.get_neuron('annotation: cube2: pushed fp synapses')\n",
    "print(type(neuron))\n",
    "skids = [n.skeleton_id for n in neuron]  \n",
    "print(skids)  "
   ]
  },
  {
   "cell_type": "code",
   "execution_count": null,
   "id": "2d3c68a5-0d69-4c42-9f54-974d2a39cd19",
   "metadata": {},
   "outputs": [],
   "source": [
    "import pandas as pd\n",
    "import pymaid\n",
    "import time\n",
    "\n",
    "import pandas as pd\n",
    "import pymaid\n",
    "import time\n",
    "\n",
    "# Fetch neuron data\n",
    "neuron = pymaid.get_neuron('annotation: cube2: pushed fp synapses')\n",
    "skids = [n.skeleton_id for n in neuron]  # Extract skeleton IDs\n",
    "\n",
    "# Function to split list into chunks of size 250\n",
    "def chunk_list(lst, chunk_size=250):\n",
    "    for i in range(0, len(lst), chunk_size):\n",
    "        yield lst[i:i + chunk_size]\n",
    "\n",
    "# Dictionary to store annotations\n",
    "annotations_dict = {}\n",
    "\n",
    "# Process in batches of 250\n",
    "for batch in chunk_list(skids, 250):\n",
    "    try:\n",
    "        annotations = pymaid.get_annotations(batch)  # Fetch annotations\n",
    "        # Remove unwanted annotations while fetching\n",
    "        for skel_id, ann_list in annotations.items():\n",
    "            filtered_annotations = [ann for ann in ann_list if ann not in {\"cube2: pushed fp synapses\", \"pushed false positives synapses\"}]\n",
    "            annotations_dict[skel_id] = filtered_annotations  # Store only cleaned annotations\n",
    "    except Exception as e:\n",
    "        print(f\"Error fetching annotations for batch {batch}: {e}\")\n",
    "    time.sleep(1)  # Avoid overloading the server\n",
    "\n",
    "# Convert dictionary to DataFrame\n",
    "annotations_df = pd.DataFrame(list(annotations_dict.items()), columns=['skeleton_id', 'annotations'])\n",
    "\n",
    "# Expand the list of annotations into separate columns\n",
    "annotations_expanded = annotations_df['annotations'].apply(pd.Series)\n",
    "\n",
    "# Rename columns dynamically (Annotation_1, Annotation_2, etc.)\n",
    "annotations_expanded.columns = [f'Annotation_{i+1}' for i in range(annotations_expanded.shape[1])]\n",
    "\n",
    "# Combine skeleton_id with expanded annotations\n",
    "annotations_df = pd.concat([annotations_df[['skeleton_id']], annotations_expanded], axis=1)\n",
    "\n",
    "# Save the updated DataFrame\n",
    "annotations_df.to_csv('~/Documents/CATMAID/pymaid/9_analysisfromproofread/analysis_proofread_octo2.csv', index=False)\n",
    "\n",
    "print(\"CSV updated successfully!\")"
   ]
  },
  {
   "cell_type": "code",
   "execution_count": 33,
   "id": "6a016b62-520b-4802-8b9f-1b60f30eed35",
   "metadata": {},
   "outputs": [
    {
     "data": {
      "text/html": [
       "<div>\n",
       "<style scoped>\n",
       "    .dataframe tbody tr th:only-of-type {\n",
       "        vertical-align: middle;\n",
       "    }\n",
       "\n",
       "    .dataframe tbody tr th {\n",
       "        vertical-align: top;\n",
       "    }\n",
       "\n",
       "    .dataframe thead th {\n",
       "        text-align: right;\n",
       "    }\n",
       "</style>\n",
       "<table border=\"1\" class=\"dataframe\">\n",
       "  <thead>\n",
       "    <tr style=\"text-align: right;\">\n",
       "      <th></th>\n",
       "      <th>skeleton_id</th>\n",
       "      <th>Annotation_1</th>\n",
       "      <th>Annotation_2</th>\n",
       "      <th>Annotation_3</th>\n",
       "      <th>Annotation_4</th>\n",
       "      <th>Annotation_5</th>\n",
       "      <th>Annotation_6</th>\n",
       "      <th>Annotation_7</th>\n",
       "      <th>Annotation_8</th>\n",
       "      <th>Annotation_9</th>\n",
       "      <th>Annotation_10</th>\n",
       "    </tr>\n",
       "  </thead>\n",
       "  <tbody>\n",
       "    <tr>\n",
       "      <th>0</th>\n",
       "      <td>608126</td>\n",
       "      <td>distanced set</td>\n",
       "      <td>ad: pre correct</td>\n",
       "      <td>ad: distanced set</td>\n",
       "      <td>sh: distanced set</td>\n",
       "      <td>mc: pre correct</td>\n",
       "      <td>mc: distance set</td>\n",
       "      <td>acs: pre correct</td>\n",
       "      <td>mr:distanced</td>\n",
       "      <td>mr: uncertain</td>\n",
       "      <td>syl: uncertain</td>\n",
       "    </tr>\n",
       "    <tr>\n",
       "      <th>1</th>\n",
       "      <td>608131</td>\n",
       "      <td>pre correct</td>\n",
       "      <td>ad: pre correct</td>\n",
       "      <td>sh: distanced set</td>\n",
       "      <td>mc: pre correct</td>\n",
       "      <td>acs: pre correct</td>\n",
       "      <td>mr: pre correct</td>\n",
       "      <td>NaN</td>\n",
       "      <td>NaN</td>\n",
       "      <td>NaN</td>\n",
       "      <td>NaN</td>\n",
       "    </tr>\n",
       "    <tr>\n",
       "      <th>2</th>\n",
       "      <td>608135</td>\n",
       "      <td>wrong set</td>\n",
       "      <td>mc: wrong set</td>\n",
       "      <td>sh: wrong set</td>\n",
       "      <td>ad: wrong set</td>\n",
       "      <td>acs: wrong set</td>\n",
       "      <td>mr: wrong set</td>\n",
       "      <td>syl: incorrect</td>\n",
       "      <td>NaN</td>\n",
       "      <td>NaN</td>\n",
       "      <td>NaN</td>\n",
       "    </tr>\n",
       "    <tr>\n",
       "      <th>3</th>\n",
       "      <td>608139</td>\n",
       "      <td>distanced set</td>\n",
       "      <td>mc: wrong set</td>\n",
       "      <td>sh: uncertain</td>\n",
       "      <td>ad: wrong set</td>\n",
       "      <td>acs: wrong set</td>\n",
       "      <td>mr: uncertain</td>\n",
       "      <td>syl: uncertain</td>\n",
       "      <td>NaN</td>\n",
       "      <td>NaN</td>\n",
       "      <td>NaN</td>\n",
       "    </tr>\n",
       "    <tr>\n",
       "      <th>4</th>\n",
       "      <td>608143</td>\n",
       "      <td>wrong set</td>\n",
       "      <td>mc: wrong set</td>\n",
       "      <td>sh: wrong set</td>\n",
       "      <td>ad: wrong set</td>\n",
       "      <td>acs: wrong set</td>\n",
       "      <td>mr: wrong set</td>\n",
       "      <td>syl: incorrect</td>\n",
       "      <td>NaN</td>\n",
       "      <td>NaN</td>\n",
       "      <td>NaN</td>\n",
       "    </tr>\n",
       "    <tr>\n",
       "      <th>...</th>\n",
       "      <td>...</td>\n",
       "      <td>...</td>\n",
       "      <td>...</td>\n",
       "      <td>...</td>\n",
       "      <td>...</td>\n",
       "      <td>...</td>\n",
       "      <td>...</td>\n",
       "      <td>...</td>\n",
       "      <td>...</td>\n",
       "      <td>...</td>\n",
       "      <td>...</td>\n",
       "    </tr>\n",
       "    <tr>\n",
       "      <th>281</th>\n",
       "      <td>609262</td>\n",
       "      <td>mr: pre correct</td>\n",
       "      <td>NaN</td>\n",
       "      <td>NaN</td>\n",
       "      <td>NaN</td>\n",
       "      <td>NaN</td>\n",
       "      <td>NaN</td>\n",
       "      <td>NaN</td>\n",
       "      <td>NaN</td>\n",
       "      <td>NaN</td>\n",
       "      <td>NaN</td>\n",
       "    </tr>\n",
       "    <tr>\n",
       "      <th>282</th>\n",
       "      <td>609266</td>\n",
       "      <td>mr: distanced set</td>\n",
       "      <td>NaN</td>\n",
       "      <td>NaN</td>\n",
       "      <td>NaN</td>\n",
       "      <td>NaN</td>\n",
       "      <td>NaN</td>\n",
       "      <td>NaN</td>\n",
       "      <td>NaN</td>\n",
       "      <td>NaN</td>\n",
       "      <td>NaN</td>\n",
       "    </tr>\n",
       "    <tr>\n",
       "      <th>283</th>\n",
       "      <td>609270</td>\n",
       "      <td>NaN</td>\n",
       "      <td>NaN</td>\n",
       "      <td>NaN</td>\n",
       "      <td>NaN</td>\n",
       "      <td>NaN</td>\n",
       "      <td>NaN</td>\n",
       "      <td>NaN</td>\n",
       "      <td>NaN</td>\n",
       "      <td>NaN</td>\n",
       "      <td>NaN</td>\n",
       "    </tr>\n",
       "    <tr>\n",
       "      <th>284</th>\n",
       "      <td>609274</td>\n",
       "      <td>NaN</td>\n",
       "      <td>NaN</td>\n",
       "      <td>NaN</td>\n",
       "      <td>NaN</td>\n",
       "      <td>NaN</td>\n",
       "      <td>NaN</td>\n",
       "      <td>NaN</td>\n",
       "      <td>NaN</td>\n",
       "      <td>NaN</td>\n",
       "      <td>NaN</td>\n",
       "    </tr>\n",
       "    <tr>\n",
       "      <th>285</th>\n",
       "      <td>609278</td>\n",
       "      <td>NaN</td>\n",
       "      <td>NaN</td>\n",
       "      <td>NaN</td>\n",
       "      <td>NaN</td>\n",
       "      <td>NaN</td>\n",
       "      <td>NaN</td>\n",
       "      <td>NaN</td>\n",
       "      <td>NaN</td>\n",
       "      <td>NaN</td>\n",
       "      <td>NaN</td>\n",
       "    </tr>\n",
       "  </tbody>\n",
       "</table>\n",
       "<p>286 rows × 11 columns</p>\n",
       "</div>"
      ],
      "text/plain": [
       "    skeleton_id       Annotation_1     Annotation_2       Annotation_3  \\\n",
       "0        608126      distanced set  ad: pre correct  ad: distanced set   \n",
       "1        608131        pre correct  ad: pre correct  sh: distanced set   \n",
       "2        608135          wrong set    mc: wrong set      sh: wrong set   \n",
       "3        608139      distanced set    mc: wrong set      sh: uncertain   \n",
       "4        608143          wrong set    mc: wrong set      sh: wrong set   \n",
       "..          ...                ...              ...                ...   \n",
       "281      609262    mr: pre correct              NaN                NaN   \n",
       "282      609266  mr: distanced set              NaN                NaN   \n",
       "283      609270                NaN              NaN                NaN   \n",
       "284      609274                NaN              NaN                NaN   \n",
       "285      609278                NaN              NaN                NaN   \n",
       "\n",
       "          Annotation_4      Annotation_5      Annotation_6      Annotation_7  \\\n",
       "0    sh: distanced set   mc: pre correct  mc: distance set  acs: pre correct   \n",
       "1      mc: pre correct  acs: pre correct   mr: pre correct               NaN   \n",
       "2        ad: wrong set    acs: wrong set     mr: wrong set    syl: incorrect   \n",
       "3        ad: wrong set    acs: wrong set     mr: uncertain    syl: uncertain   \n",
       "4        ad: wrong set    acs: wrong set     mr: wrong set    syl: incorrect   \n",
       "..                 ...               ...               ...               ...   \n",
       "281                NaN               NaN               NaN               NaN   \n",
       "282                NaN               NaN               NaN               NaN   \n",
       "283                NaN               NaN               NaN               NaN   \n",
       "284                NaN               NaN               NaN               NaN   \n",
       "285                NaN               NaN               NaN               NaN   \n",
       "\n",
       "     Annotation_8   Annotation_9   Annotation_10  \n",
       "0    mr:distanced  mr: uncertain  syl: uncertain  \n",
       "1             NaN            NaN             NaN  \n",
       "2             NaN            NaN             NaN  \n",
       "3             NaN            NaN             NaN  \n",
       "4             NaN            NaN             NaN  \n",
       "..            ...            ...             ...  \n",
       "281           NaN            NaN             NaN  \n",
       "282           NaN            NaN             NaN  \n",
       "283           NaN            NaN             NaN  \n",
       "284           NaN            NaN             NaN  \n",
       "285           NaN            NaN             NaN  \n",
       "\n",
       "[286 rows x 11 columns]"
      ]
     },
     "execution_count": 33,
     "metadata": {},
     "output_type": "execute_result"
    }
   ],
   "source": [
    "annotations_df"
   ]
  },
  {
   "cell_type": "code",
   "execution_count": 3,
   "id": "3bea76cc-3cee-4509-a888-1e0ff60eca79",
   "metadata": {},
   "outputs": [
    {
     "name": "stdout",
     "output_type": "stream",
     "text": [
      "acs: pre correct\n",
      "acs: uncertain\n",
      "acs: wrong set\n",
      "ad: distanced set\n",
      "ad: pre correct\n",
      "ad: uncertain\n",
      "ad: wrong set\n",
      "mc: distance set\n",
      "mc: pre correct\n",
      "mc: uncertain\n",
      "mc: unknown\n",
      "mc: wrong set\n",
      "mr: distanced set\n",
      "mr: pre correct\n",
      "mr: uncertain\n",
      "mr: wrong set\n",
      "mr:distanced\n",
      "sh: distanced set\n",
      "sh: pre correct\n",
      "sh: uncertain\n",
      "sh: wrong set\n",
      "syl: correct\n",
      "syl: incorrect\n",
      "syl: uncertain\n"
     ]
    }
   ],
   "source": [
    "import pandas as pd\n",
    "\n",
    "df = annotations_df.copy()\n",
    "\n",
    "unique_annotations = set()\n",
    "\n",
    "for col in df.columns[1:]:\n",
    "    for annotation in df[col].dropna():\n",
    "        # Handle cells that might be lists or strings\n",
    "        if isinstance(annotation, list):\n",
    "            annotations_list = annotation\n",
    "        else:\n",
    "            annotations_list = [annotation]\n",
    "\n",
    "        for single_annotation in annotations_list:\n",
    "            unique_annotations.add(single_annotation.strip())\n",
    "\n",
    "# Print sorted unique annotations\n",
    "for annotation in sorted(unique_annotations):\n",
    "    print(annotation)\n"
   ]
  },
  {
   "cell_type": "code",
   "execution_count": 5,
   "id": "fe3d912e-4629-4f99-85ef-4e84abe9aa6a",
   "metadata": {},
   "outputs": [],
   "source": [
    "user_annotations_mapping = {\n",
    "    \"acs\": [\"acs: pre correct\", \"acs: uncertain\", \"acs: wrong set\"],\n",
    "    \"ad\": [\"ad: pre correct\", \"ad: distanced set\", \"ad: uncertain\", \"ad: wrong set\"],\n",
    "    \"mc\": [\"mc: distance set\",\"mc: pre correct\",\"mc: uncertain\",\"mc: unknown\",\"mc: wrong set\"],\n",
    "    \"mr\": [\"mr: distanced set\",\"mr: pre correct\",\"mr: uncertain\",\"mr: wrong set\",\"mr:distanced\"],\n",
    "    \"sh\": [\"sh: wrong set\", \"sh: distanced set\", \"sh: pre correct\",\"sh: uncertain\"],\n",
    "    \"syl\": [\"syl:correct\",\"syl: uncertain\", \"syl: incorrect\"],\n",
    "}\n"
   ]
  },
  {
   "cell_type": "code",
   "execution_count": 11,
   "id": "14dfb2d6-d545-40a1-b840-ef4b5a3181c5",
   "metadata": {},
   "outputs": [
    {
     "data": {
      "text/html": [
       "<div>\n",
       "<style scoped>\n",
       "    .dataframe tbody tr th:only-of-type {\n",
       "        vertical-align: middle;\n",
       "    }\n",
       "\n",
       "    .dataframe tbody tr th {\n",
       "        vertical-align: top;\n",
       "    }\n",
       "\n",
       "    .dataframe thead th {\n",
       "        text-align: right;\n",
       "    }\n",
       "</style>\n",
       "<table border=\"1\" class=\"dataframe\">\n",
       "  <thead>\n",
       "    <tr style=\"text-align: right;\">\n",
       "      <th></th>\n",
       "      <th>skeleton_id</th>\n",
       "      <th>acs</th>\n",
       "      <th>ad</th>\n",
       "      <th>mc</th>\n",
       "      <th>mr</th>\n",
       "      <th>sh</th>\n",
       "      <th>syl</th>\n",
       "    </tr>\n",
       "  </thead>\n",
       "  <tbody>\n",
       "    <tr>\n",
       "      <th>0</th>\n",
       "      <td>608126</td>\n",
       "      <td>pre correct</td>\n",
       "      <td>distanced set</td>\n",
       "      <td>distance set</td>\n",
       "      <td>uncertain</td>\n",
       "      <td>distanced set</td>\n",
       "      <td>uncertain</td>\n",
       "    </tr>\n",
       "    <tr>\n",
       "      <th>1</th>\n",
       "      <td>608131</td>\n",
       "      <td>pre correct</td>\n",
       "      <td>pre correct</td>\n",
       "      <td>pre correct</td>\n",
       "      <td>pre correct</td>\n",
       "      <td>distanced set</td>\n",
       "      <td>correct</td>\n",
       "    </tr>\n",
       "    <tr>\n",
       "      <th>2</th>\n",
       "      <td>608135</td>\n",
       "      <td>wrong set</td>\n",
       "      <td>wrong set</td>\n",
       "      <td>wrong set</td>\n",
       "      <td>wrong set</td>\n",
       "      <td>wrong set</td>\n",
       "      <td>incorrect</td>\n",
       "    </tr>\n",
       "    <tr>\n",
       "      <th>3</th>\n",
       "      <td>608139</td>\n",
       "      <td>wrong set</td>\n",
       "      <td>wrong set</td>\n",
       "      <td>wrong set</td>\n",
       "      <td>uncertain</td>\n",
       "      <td>uncertain</td>\n",
       "      <td>uncertain</td>\n",
       "    </tr>\n",
       "    <tr>\n",
       "      <th>4</th>\n",
       "      <td>608143</td>\n",
       "      <td>wrong set</td>\n",
       "      <td>wrong set</td>\n",
       "      <td>wrong set</td>\n",
       "      <td>wrong set</td>\n",
       "      <td>wrong set</td>\n",
       "      <td>incorrect</td>\n",
       "    </tr>\n",
       "    <tr>\n",
       "      <th>...</th>\n",
       "      <td>...</td>\n",
       "      <td>...</td>\n",
       "      <td>...</td>\n",
       "      <td>...</td>\n",
       "      <td>...</td>\n",
       "      <td>...</td>\n",
       "      <td>...</td>\n",
       "    </tr>\n",
       "    <tr>\n",
       "      <th>281</th>\n",
       "      <td>609262</td>\n",
       "      <td></td>\n",
       "      <td></td>\n",
       "      <td></td>\n",
       "      <td>pre correct</td>\n",
       "      <td></td>\n",
       "      <td></td>\n",
       "    </tr>\n",
       "    <tr>\n",
       "      <th>282</th>\n",
       "      <td>609266</td>\n",
       "      <td></td>\n",
       "      <td></td>\n",
       "      <td></td>\n",
       "      <td>distanced set</td>\n",
       "      <td></td>\n",
       "      <td></td>\n",
       "    </tr>\n",
       "    <tr>\n",
       "      <th>283</th>\n",
       "      <td>609270</td>\n",
       "      <td></td>\n",
       "      <td></td>\n",
       "      <td></td>\n",
       "      <td></td>\n",
       "      <td></td>\n",
       "      <td></td>\n",
       "    </tr>\n",
       "    <tr>\n",
       "      <th>284</th>\n",
       "      <td>609274</td>\n",
       "      <td></td>\n",
       "      <td></td>\n",
       "      <td></td>\n",
       "      <td></td>\n",
       "      <td></td>\n",
       "      <td></td>\n",
       "    </tr>\n",
       "    <tr>\n",
       "      <th>285</th>\n",
       "      <td>609278</td>\n",
       "      <td></td>\n",
       "      <td></td>\n",
       "      <td></td>\n",
       "      <td></td>\n",
       "      <td></td>\n",
       "      <td></td>\n",
       "    </tr>\n",
       "  </tbody>\n",
       "</table>\n",
       "<p>286 rows × 7 columns</p>\n",
       "</div>"
      ],
      "text/plain": [
       "    skeleton_id          acs             ad            mc             mr  \\\n",
       "0        608126  pre correct  distanced set  distance set      uncertain   \n",
       "1        608131  pre correct    pre correct   pre correct    pre correct   \n",
       "2        608135    wrong set      wrong set     wrong set      wrong set   \n",
       "3        608139    wrong set      wrong set     wrong set      uncertain   \n",
       "4        608143    wrong set      wrong set     wrong set      wrong set   \n",
       "..          ...          ...            ...           ...            ...   \n",
       "281      609262                                              pre correct   \n",
       "282      609266                                            distanced set   \n",
       "283      609270                                                            \n",
       "284      609274                                                            \n",
       "285      609278                                                            \n",
       "\n",
       "                sh        syl  \n",
       "0    distanced set  uncertain  \n",
       "1    distanced set    correct  \n",
       "2        wrong set  incorrect  \n",
       "3        uncertain  uncertain  \n",
       "4        wrong set  incorrect  \n",
       "..             ...        ...  \n",
       "281                            \n",
       "282                            \n",
       "283                            \n",
       "284                            \n",
       "285                            \n",
       "\n",
       "[286 rows x 7 columns]"
      ]
     },
     "metadata": {},
     "output_type": "display_data"
    }
   ],
   "source": [
    "import pandas as pd\n",
    "import re\n",
    "\n",
    "import pandas as pd\n",
    "\n",
    "# Example: your original DataFrame\n",
    "df = annotations_df.copy()\n",
    "\n",
    "structured_data_list = []\n",
    "\n",
    "# Iterate over every row in the DataFrame\n",
    "for idx, row in df.iterrows():\n",
    "    structured_row = {\"skeleton_id\": row[\"skeleton_id\"]}\n",
    "    for annotation in row[1:]:\n",
    "        matched = False\n",
    "        for user_prefix, annotations_list in user_annotations_mapping.items():\n",
    "            for full_annotation in annotations_list:\n",
    "                # normalize strings to match consistently\n",
    "                if isinstance(annotation, str) and annotation.replace(\" \", \"\").lower() == full_annotation.replace(\" \", \"\").lower():\n",
    "                    classification = full_annotation.split(\":\")[1].strip()\n",
    "                    structured_row[user_prefix] = classification\n",
    "                    matched = True\n",
    "                    break\n",
    "            if matched:\n",
    "                break\n",
    "    structured_data_list.append(structured_row)\n",
    "\n",
    "# Convert the list of structured rows into a DataFrame\n",
    "structured_df = pd.DataFrame(structured_data_list)\n",
    "\n",
    "# Reorder columns\n",
    "ordered_cols = [\"skeleton_id\"] + sorted(user_annotations_mapping.keys())\n",
    "structured_df = structured_df.reindex(columns=ordered_cols)\n",
    "\n",
    "# Fill missing values\n",
    "structured_df.fillna('', inplace=True)\n",
    "\n",
    "display(structured_df)\n"
   ]
  },
  {
   "cell_type": "code",
   "execution_count": 12,
   "id": "9cdd2188-fe04-409a-b4b5-31a25410aea5",
   "metadata": {},
   "outputs": [
    {
     "name": "stdout",
     "output_type": "stream",
     "text": [
      "Unique classifications:\n",
      "correct\n",
      "distance set\n",
      "distanced\n",
      "distanced set\n",
      "incorrect\n",
      "pre correct\n",
      "uncertain\n",
      "unknown\n",
      "wrong set\n"
     ]
    }
   ],
   "source": [
    "import pandas as pd\n",
    "\n",
    "# Assuming your DataFrame is named df\n",
    "classifications = set()\n",
    "\n",
    "for col in structured_df.columns[1:]:  # Exclude skeleton_id\n",
    "    classifications.update(structured_df[col].dropna().unique())\n",
    "\n",
    "print(\"Unique classifications:\")\n",
    "for classification in sorted(classifications):\n",
    "    if classification.strip():\n",
    "        print(classification)\n"
   ]
  },
  {
   "cell_type": "code",
   "execution_count": 13,
   "id": "8bc571b9-8b18-4f8d-8460-3d6ae94f7290",
   "metadata": {},
   "outputs": [],
   "source": [
    "group_mapping = {\n",
    "    \"correct\": \"correct\",\n",
    "    \"pre correct\": \"correct\",\n",
    "    \"distance set\": \"uncertain\",\n",
    "    \"distanced\" : \"uncertain\",\n",
    "    \"distanced set\": \"uncertain\",\n",
    "    \"uncertain\": \"uncertain\",\n",
    "    \"wrong set\": \"incorrect\",\n",
    "    \"incorrect\": \"incorrect\",\n",
    "}"
   ]
  },
  {
   "cell_type": "code",
   "execution_count": 21,
   "id": "71c0016d-1a9b-41d3-8699-1fe444a558d0",
   "metadata": {},
   "outputs": [
    {
     "data": {
      "text/html": [
       "<div>\n",
       "<style scoped>\n",
       "    .dataframe tbody tr th:only-of-type {\n",
       "        vertical-align: middle;\n",
       "    }\n",
       "\n",
       "    .dataframe tbody tr th {\n",
       "        vertical-align: top;\n",
       "    }\n",
       "\n",
       "    .dataframe thead th {\n",
       "        text-align: right;\n",
       "    }\n",
       "</style>\n",
       "<table border=\"1\" class=\"dataframe\">\n",
       "  <thead>\n",
       "    <tr style=\"text-align: right;\">\n",
       "      <th></th>\n",
       "      <th>skeleton_id</th>\n",
       "      <th>acs</th>\n",
       "      <th>ad</th>\n",
       "      <th>mc</th>\n",
       "      <th>mr</th>\n",
       "      <th>sh</th>\n",
       "      <th>syl</th>\n",
       "      <th>annotations_per_neuron</th>\n",
       "    </tr>\n",
       "  </thead>\n",
       "  <tbody>\n",
       "    <tr>\n",
       "      <th>0</th>\n",
       "      <td>annotations_per_user</td>\n",
       "      <td>153</td>\n",
       "      <td>94</td>\n",
       "      <td>49</td>\n",
       "      <td>107</td>\n",
       "      <td>59</td>\n",
       "      <td>33</td>\n",
       "      <td>NaN</td>\n",
       "    </tr>\n",
       "    <tr>\n",
       "      <th>1</th>\n",
       "      <td>608126</td>\n",
       "      <td>correct</td>\n",
       "      <td>uncertain</td>\n",
       "      <td>uncertain</td>\n",
       "      <td>uncertain</td>\n",
       "      <td>uncertain</td>\n",
       "      <td>uncertain</td>\n",
       "      <td>6.0</td>\n",
       "    </tr>\n",
       "    <tr>\n",
       "      <th>2</th>\n",
       "      <td>608131</td>\n",
       "      <td>correct</td>\n",
       "      <td>correct</td>\n",
       "      <td>correct</td>\n",
       "      <td>correct</td>\n",
       "      <td>uncertain</td>\n",
       "      <td>correct</td>\n",
       "      <td>6.0</td>\n",
       "    </tr>\n",
       "    <tr>\n",
       "      <th>3</th>\n",
       "      <td>608135</td>\n",
       "      <td>incorrect</td>\n",
       "      <td>incorrect</td>\n",
       "      <td>incorrect</td>\n",
       "      <td>incorrect</td>\n",
       "      <td>incorrect</td>\n",
       "      <td>incorrect</td>\n",
       "      <td>6.0</td>\n",
       "    </tr>\n",
       "    <tr>\n",
       "      <th>4</th>\n",
       "      <td>608139</td>\n",
       "      <td>incorrect</td>\n",
       "      <td>incorrect</td>\n",
       "      <td>incorrect</td>\n",
       "      <td>uncertain</td>\n",
       "      <td>uncertain</td>\n",
       "      <td>uncertain</td>\n",
       "      <td>6.0</td>\n",
       "    </tr>\n",
       "  </tbody>\n",
       "</table>\n",
       "</div>"
      ],
      "text/plain": [
       "            skeleton_id        acs         ad         mc         mr  \\\n",
       "0  annotations_per_user        153         94         49        107   \n",
       "1                608126    correct  uncertain  uncertain  uncertain   \n",
       "2                608131    correct    correct    correct    correct   \n",
       "3                608135  incorrect  incorrect  incorrect  incorrect   \n",
       "4                608139  incorrect  incorrect  incorrect  uncertain   \n",
       "\n",
       "          sh        syl  annotations_per_neuron  \n",
       "0         59         33                     NaN  \n",
       "1  uncertain  uncertain                     6.0  \n",
       "2  uncertain    correct                     6.0  \n",
       "3  incorrect  incorrect                     6.0  \n",
       "4  uncertain  uncertain                     6.0  "
      ]
     },
     "metadata": {},
     "output_type": "display_data"
    }
   ],
   "source": [
    "import pandas as pd\n",
    "\n",
    "grouped_df = structured_df.copy()\n",
    "\n",
    "# Apply mapping\n",
    "for col in grouped_df.columns[1:]:\n",
    "    grouped_df[col] = grouped_df[col].map(group_mapping).fillna('')\n",
    "\n",
    "# Calculate annotations_per_user (how many annotations each user made)\n",
    "annotations_per_user = ['annotations_per_user']\n",
    "for col in grouped_df.columns[1:]:\n",
    "    annotations_per_user.append(grouped_df[col].astype(bool).sum())\n",
    "\n",
    "# Insert annotations_per_user row below column headers\n",
    "annotations_row_df = pd.DataFrame([annotations_per_user], columns=grouped_df.columns)\n",
    "\n",
    "# Calculate annotations_per_neuron (annotations count per row)\n",
    "grouped_df['annotations_per_neuron'] = grouped_df.iloc[:, 1:].astype(bool).sum(axis=1)\n",
    "\n",
    "# Concatenate the annotations_per_user row with the existing DataFrame\n",
    "final_df = pd.concat([annotations_row_df, grouped_df], ignore_index=True)\n",
    "\n",
    "# Display the resulting DataFrame\n",
    "display(final_df.head())\n",
    "\n",
    "# # Save to CSV\n",
    "final_df.to_csv('~/Documents/CATMAID/pymaid/9_analysisfromproofread/classificationocto2.csv', index=False)\n"
   ]
  },
  {
   "cell_type": "code",
   "execution_count": null,
   "id": "6adc1f37-1cf3-4e30-91a4-fa404404905d",
   "metadata": {},
   "outputs": [],
   "source": []
  },
  {
   "cell_type": "code",
   "execution_count": 16,
   "id": "dec5dfa3-8a6c-4ec5-ac72-669a7cd4eedf",
   "metadata": {},
   "outputs": [
    {
     "name": "stdout",
     "output_type": "stream",
     "text": [
      "  skeleton_id  average_classification\n",
      "0      608126                     1.0\n",
      "1      608131                     1.0\n",
      "2      608135                     0.0\n",
      "3      608139                     0.0\n",
      "4      608143                     0.0\n"
     ]
    }
   ],
   "source": [
    "numeric_mapping = {\"correct\": 1, \"distanced\": 0.5, \"incorrect\": 0}\n",
    "\n",
    "numeric_df = grouped_df.copy()\n",
    "\n",
    "for col in numeric_df.columns[1:]:\n",
    "    numeric_df[col] = numeric_df[col].map(numeric_mapping)\n",
    "\n",
    "# Calculate the mean classification per row, skipping empty entries\n",
    "numeric_df['average_classification'] = numeric_df.iloc[:, 1:].mean(axis=1, skipna=True)\n",
    "\n",
    "print(numeric_df[['skeleton_id', 'average_classification']].head())\n"
   ]
  },
  {
   "cell_type": "code",
   "execution_count": 19,
   "id": "062d4882-760a-4133-b46b-aeac701c98da",
   "metadata": {},
   "outputs": [
    {
     "name": "stdout",
     "output_type": "stream",
     "text": [
      "  Column  Match_Percentage_with_acs\n",
      "0     ad                  31.372549\n",
      "1     mc                  20.261438\n",
      "2     sh                  17.647059\n",
      "3     mr                  16.993464\n",
      "4    syl                   9.150327\n"
     ]
    }
   ],
   "source": [
    "#If xx is the standard \n",
    "\n",
    "reference_col = 'acs'  # Your reference column\n",
    "match_percentages = {}\n",
    "\n",
    "# Count total annotations made by acs (excluding empty cells)\n",
    "total_annotations_acs = grouped_df[reference_col].astype(bool).sum()\n",
    "\n",
    "# Iterate over each column (excluding skeleton_id and reference_col)\n",
    "for col in grouped_df.columns:\n",
    "    if col not in ['skeleton_id', reference_col]:\n",
    "        # Count matches only where acs has an annotation\n",
    "        matches = (grouped_df[col] == grouped_df[reference_col]) & (grouped_df[reference_col] != '')\n",
    "        num_matches = matches.sum()\n",
    "\n",
    "        # Calculate match percentage\n",
    "        percentage = (num_matches / total_annotations_acs) * 100 if total_annotations_acs else 0\n",
    "        match_percentages[col] = percentage\n",
    "\n",
    "# Sort results by highest percentage match\n",
    "sorted_percentages = sorted(match_percentages.items(), key=lambda x: x[1], reverse=True)\n",
    "\n",
    "# Display results\n",
    "percentages_df = pd.DataFrame(sorted_percentages, columns=['Column', 'Match_Percentage_with_acs'])\n",
    "print(percentages_df)"
   ]
  },
  {
   "cell_type": "code",
   "execution_count": 72,
   "id": "8b7a7ac7-5a95-4ede-b8bc-a9ef3e5d7bdb",
   "metadata": {},
   "outputs": [
    {
     "data": {
      "application/vnd.plotly.v1+json": {
       "config": {
        "plotlyServerURL": "https://plot.ly"
       },
       "data": [
        {
         "alignmentgroup": "True",
         "customdata": [
          [
           "acs",
           6
          ],
          [
           "ad",
           6
          ],
          [
           "acs, mc, sh, syl",
           6
          ],
          [
           "mc, sh, syl",
           6
          ],
          [
           "acs, ad, mc, mr, syl",
           6
          ],
          [
           "ad, mc, sh, syl",
           6
          ],
          [
           "acs, ad, mc, mr, sh, syl",
           6
          ],
          [
           "acs, ad, mc, mr, sh, syl",
           6
          ],
          [
           "mc, sh, syl",
           6
          ],
          [
           "ad, mc, syl",
           6
          ],
          [
           "ad, mc, sh, syl",
           6
          ],
          [
           "acs, ad, mc, mr, syl",
           6
          ],
          [
           "ad, mc, mr, syl",
           6
          ],
          [
           "ad, mc, sh",
           5
          ],
          [
           "mc, sh",
           5
          ],
          [
           "mr, sh",
           5
          ],
          [
           "sh",
           5
          ],
          [
           "mr, sh",
           5
          ],
          [
           "acs, mc, sh",
           5
          ],
          [
           "mc",
           5
          ],
          [
           "acs, mc, sh, syl",
           5
          ],
          [
           "acs, ad, mr, sh, syl",
           5
          ],
          [
           "acs, sh, syl",
           5
          ],
          [
           "acs, mc, sh, syl",
           5
          ],
          [
           "sh",
           5
          ],
          [
           "acs",
           4
          ],
          [
           "acs, ad",
           4
          ],
          [
           "acs, ad, mc, sh",
           4
          ],
          [
           "acs, ad, mc",
           4
          ],
          [
           "acs, mc",
           4
          ],
          [
           "acs, mc, sh",
           4
          ],
          [
           "acs, mc, sh",
           4
          ],
          [
           "sh",
           4
          ],
          [
           "acs",
           3
          ],
          [
           "acs, ad, mr",
           3
          ],
          [
           "acs, mr",
           3
          ],
          [
           "acs, ad, mc",
           3
          ],
          [
           "acs",
           3
          ],
          [
           "acs, sh",
           3
          ],
          [
           "ad",
           3
          ],
          [
           "acs",
           3
          ],
          [
           "acs, sh",
           3
          ],
          [
           "acs, ad, sh",
           3
          ],
          [
           "acs, ad, sh",
           3
          ],
          [
           "acs, ad, sh",
           3
          ],
          [
           "mr",
           2
          ],
          [
           "acs, ad",
           2
          ],
          [
           "ad",
           2
          ],
          [
           "acs, ad",
           2
          ],
          [
           "ad",
           2
          ],
          [
           "mr",
           2
          ],
          [
           "acs",
           2
          ],
          [
           "acs",
           2
          ],
          [
           "acs",
           2
          ],
          [
           "acs, mr",
           2
          ],
          [
           "acs, mr",
           2
          ],
          [
           "acs",
           2
          ],
          [
           "acs, ad",
           2
          ],
          [
           "acs, ad",
           2
          ],
          [
           "acs, ad",
           2
          ],
          [
           "acs, ad",
           2
          ],
          [
           "acs, ad",
           2
          ],
          [
           "acs",
           2
          ],
          [
           "acs",
           2
          ],
          [
           "acs, ad",
           2
          ],
          [
           "acs",
           2
          ],
          [
           "acs",
           2
          ]
         ],
         "hovertemplate": "Category=correct<br>skeleton_id=%{x}<br>Annotation=%{y}<br>Annotators=%{customdata[0]}<br>annotations_per_neuron=%{customdata[1]}<extra></extra>",
         "legendgroup": "correct",
         "marker": {
          "color": "green",
          "pattern": {
           "shape": ""
          }
         },
         "name": "correct",
         "offsetgroup": "correct",
         "orientation": "v",
         "showlegend": true,
         "textposition": "auto",
         "type": "bar",
         "x": [
          "608126",
          "608188",
          "608196",
          "608208",
          "608216",
          "608220",
          "608228",
          "608232",
          "608224",
          "608159",
          "608155",
          "608131",
          "608163",
          "608289",
          "608293",
          "608297",
          "608301",
          "608305",
          "608329",
          "608285",
          "608261",
          "608192",
          "608249",
          "608257",
          "608265",
          "608349",
          "608341",
          "608317",
          "608325",
          "608269",
          "608273",
          "608277",
          "608281",
          "608469",
          "608465",
          "608461",
          "608453",
          "608445",
          "608357",
          "608365",
          "608369",
          "608337",
          "608345",
          "608353",
          "608361",
          "608537",
          "608509",
          "608505",
          "608501",
          "608497",
          "608717",
          "608697",
          "608681",
          "608673",
          "608669",
          "608561",
          "608477",
          "608381",
          "608385",
          "608401",
          "608405",
          "608409",
          "608417",
          "608425",
          "608485",
          "608437",
          "608441"
         ],
         "xaxis": "x",
         "y": [
          1,
          1,
          4,
          3,
          5,
          4,
          6,
          6,
          3,
          3,
          4,
          5,
          4,
          3,
          2,
          2,
          1,
          2,
          3,
          1,
          4,
          5,
          3,
          4,
          1,
          1,
          2,
          4,
          3,
          2,
          3,
          3,
          1,
          1,
          3,
          2,
          3,
          1,
          2,
          1,
          1,
          2,
          3,
          3,
          3,
          1,
          2,
          1,
          2,
          1,
          1,
          1,
          1,
          1,
          2,
          2,
          1,
          2,
          2,
          2,
          2,
          2,
          1,
          1,
          2,
          1,
          1
         ],
         "yaxis": "y"
        },
        {
         "alignmentgroup": "True",
         "customdata": [
          [
           "mr, sh, syl",
           6
          ],
          [
           "ad",
           6
          ],
          [
           "mr, sh, syl",
           6
          ],
          [
           "mc, sh, syl",
           6
          ],
          [
           "acs",
           6
          ],
          [
           "acs, mc, mr, sh, syl",
           6
          ],
          [
           "sh",
           6
          ],
          [
           "acs, mr",
           6
          ],
          [
           "acs, ad, mr",
           6
          ],
          [
           "mr, sh, syl",
           6
          ],
          [
           "mr, sh, syl",
           6
          ],
          [
           "ad, mc, mr, sh, syl",
           6
          ],
          [
           "sh",
           6
          ],
          [
           "mr, sh, syl",
           6
          ],
          [
           "acs, mr, sh, syl",
           6
          ],
          [
           "syl",
           6
          ],
          [
           "acs",
           6
          ],
          [
           "mr, sh",
           6
          ],
          [
           "syl",
           6
          ],
          [
           "ad, mr, syl",
           6
          ],
          [
           "syl",
           6
          ],
          [
           "acs",
           6
          ],
          [
           "acs, ad, mr, sh",
           5
          ],
          [
           "mr",
           5
          ],
          [
           "mr",
           5
          ],
          [
           "sh, syl",
           5
          ],
          [
           "acs",
           5
          ],
          [
           "mr",
           5
          ],
          [
           "ad",
           5
          ],
          [
           "ad, mc, sh, syl",
           5
          ],
          [
           "acs, syl",
           5
          ],
          [
           "acs, mr, sh",
           5
          ],
          [
           "sh",
           4
          ],
          [
           "mr, sh",
           4
          ],
          [
           "ad, sh",
           4
          ],
          [
           "sh",
           4
          ],
          [
           "sh",
           4
          ],
          [
           "acs, ad",
           4
          ],
          [
           "mr",
           3
          ],
          [
           "ad",
           3
          ],
          [
           "mr",
           3
          ],
          [
           "ad, mr",
           3
          ],
          [
           "sh",
           3
          ],
          [
           "ad",
           3
          ],
          [
           "ad",
           3
          ],
          [
           "acs",
           2
          ],
          [
           "acs",
           2
          ],
          [
           "mr",
           2
          ],
          [
           "acs",
           2
          ],
          [
           "mr",
           2
          ],
          [
           "mr",
           2
          ],
          [
           "acs, mr",
           2
          ],
          [
           "acs",
           2
          ],
          [
           "acs",
           2
          ],
          [
           "mr",
           2
          ],
          [
           "acs",
           2
          ],
          [
           "acs",
           2
          ],
          [
           "acs, ad",
           2
          ],
          [
           "ad",
           2
          ],
          [
           "ad",
           2
          ],
          [
           "acs",
           2
          ],
          [
           "ad",
           2
          ],
          [
           "acs, ad",
           2
          ],
          [
           "ad",
           2
          ],
          [
           "ad",
           2
          ],
          [
           "ad",
           2
          ],
          [
           "acs",
           2
          ]
         ],
         "hovertemplate": "Category=uncertain<br>skeleton_id=%{x}<br>Annotation=%{y}<br>Annotators=%{customdata[0]}<br>annotations_per_neuron=%{customdata[1]}<extra></extra>",
         "legendgroup": "uncertain",
         "marker": {
          "color": "gold",
          "pattern": {
           "shape": ""
          }
         },
         "name": "uncertain",
         "offsetgroup": "uncertain",
         "orientation": "v",
         "showlegend": true,
         "textposition": "auto",
         "type": "bar",
         "x": [
          "608188",
          "608196",
          "608200",
          "608204",
          "608208",
          "608212",
          "608216",
          "608220",
          "608224",
          "608240",
          "608244",
          "608126",
          "608131",
          "608139",
          "608147",
          "608151",
          "608155",
          "608159",
          "608171",
          "608180",
          "608176",
          "608163",
          "608285",
          "608289",
          "608293",
          "608184",
          "608297",
          "608301",
          "608305",
          "608253",
          "608265",
          "608333",
          "608325",
          "608341",
          "608321",
          "608313",
          "608269",
          "608281",
          "608469",
          "608461",
          "608457",
          "608445",
          "608365",
          "608337",
          "608357",
          "608489",
          "608537",
          "608681",
          "608717",
          "608709",
          "608697",
          "608685",
          "608549",
          "608677",
          "608673",
          "608617",
          "608421",
          "608377",
          "608413",
          "608417",
          "608433",
          "608441",
          "608449",
          "608373",
          "608477",
          "608481",
          "608741"
         ],
         "xaxis": "x",
         "y": [
          3,
          1,
          3,
          3,
          1,
          5,
          1,
          2,
          3,
          3,
          3,
          5,
          1,
          3,
          4,
          1,
          1,
          2,
          1,
          3,
          1,
          1,
          4,
          1,
          1,
          2,
          1,
          1,
          1,
          4,
          2,
          3,
          1,
          2,
          2,
          1,
          1,
          2,
          1,
          1,
          1,
          2,
          1,
          1,
          1,
          1,
          1,
          1,
          1,
          1,
          1,
          2,
          1,
          1,
          1,
          1,
          1,
          2,
          1,
          1,
          1,
          1,
          2,
          1,
          1,
          1,
          1
         ],
         "yaxis": "y"
        },
        {
         "alignmentgroup": "True",
         "customdata": [
          [
           "mr",
           6
          ],
          [
           "acs, ad, mc",
           6
          ],
          [
           "acs, ad, mr",
           6
          ],
          [
           "ad, mr",
           6
          ],
          [
           "ad",
           6
          ],
          [
           "acs, ad, mc",
           6
          ],
          [
           "acs, ad, mc",
           6
          ],
          [
           "acs, mc",
           6
          ],
          [
           "ad, mc",
           6
          ],
          [
           "acs",
           6
          ],
          [
           "acs, ad, mc, mr, sh, syl",
           6
          ],
          [
           "acs, ad, mc",
           6
          ],
          [
           "acs, ad, mc, mr, sh, syl",
           6
          ],
          [
           "acs, ad, mc, mr, sh",
           6
          ],
          [
           "mr",
           6
          ],
          [
           "acs, mc, sh",
           6
          ],
          [
           "acs, ad, mc, mr, sh",
           6
          ],
          [
           "acs, ad, mc, mr, sh",
           6
          ],
          [
           "sh",
           6
          ],
          [
           "ad, mc",
           5
          ],
          [
           "acs",
           5
          ],
          [
           "acs, ad",
           5
          ],
          [
           "acs, ad, mc",
           5
          ],
          [
           "acs, mc",
           5
          ],
          [
           "acs, ad, mc, mr, sh",
           5
          ],
          [
           "ad, mr",
           5
          ],
          [
           "ad",
           5
          ],
          [
           "ad, mc",
           5
          ],
          [
           "acs",
           5
          ],
          [
           "ad",
           5
          ],
          [
           "acs, ad, mr",
           5
          ],
          [
           "ad, mc",
           5
          ],
          [
           "ad, mc",
           5
          ],
          [
           "ad, mr, sh",
           4
          ],
          [
           "acs, mc",
           4
          ],
          [
           "ad",
           4
          ],
          [
           "acs, ad, mc",
           4
          ],
          [
           "ad",
           4
          ],
          [
           "ad",
           4
          ],
          [
           "mc",
           4
          ],
          [
           "ad",
           3
          ],
          [
           "ad, sh",
           3
          ],
          [
           "acs, ad",
           3
          ],
          [
           "acs",
           3
          ],
          [
           "acs, mr",
           2
          ],
          [
           "acs",
           2
          ],
          [
           "acs",
           2
          ],
          [
           "acs",
           2
          ],
          [
           "acs, mr",
           2
          ],
          [
           "mr",
           2
          ],
          [
           "mr",
           2
          ],
          [
           "acs",
           2
          ],
          [
           "mr",
           2
          ],
          [
           "mr",
           2
          ],
          [
           "acs, ad",
           2
          ],
          [
           "ad",
           2
          ],
          [
           "acs, ad",
           2
          ],
          [
           "acs, ad",
           2
          ],
          [
           "acs, ad",
           2
          ],
          [
           "acs",
           2
          ],
          [
           "ad",
           2
          ],
          [
           "ad",
           2
          ],
          [
           "acs, ad",
           2
          ],
          [
           "ad",
           2
          ],
          [
           "ad",
           2
          ],
          [
           "acs, ad",
           2
          ],
          [
           "acs",
           2
          ]
         ],
         "hovertemplate": "Category=incorrect<br>skeleton_id=%{x}<br>Annotation=%{y}<br>Annotators=%{customdata[0]}<br>annotations_per_neuron=%{customdata[1]}<extra></extra>",
         "legendgroup": "incorrect",
         "marker": {
          "color": "red",
          "pattern": {
           "shape": ""
          }
         },
         "name": "incorrect",
         "offsetgroup": "incorrect",
         "orientation": "v",
         "showlegend": true,
         "textposition": "auto",
         "type": "bar",
         "x": [
          "608196",
          "608200",
          "608204",
          "608208",
          "608212",
          "608240",
          "608244",
          "608188",
          "608147",
          "608159",
          "608135",
          "608139",
          "608143",
          "608151",
          "608155",
          "608180",
          "608176",
          "608171",
          "608163",
          "608297",
          "608289",
          "608293",
          "608301",
          "608305",
          "608309",
          "608329",
          "608261",
          "608249",
          "608253",
          "608257",
          "608184",
          "608265",
          "608333",
          "608349",
          "608321",
          "608273",
          "608313",
          "608269",
          "608277",
          "608281",
          "608469",
          "608369",
          "608457",
          "608365",
          "608529",
          "608373",
          "608505",
          "608497",
          "608541",
          "608549",
          "608741",
          "608709",
          "608677",
          "608617",
          "608493",
          "608489",
          "608389",
          "608393",
          "608397",
          "608413",
          "608421",
          "608425",
          "608429",
          "608433",
          "608437",
          "608473",
          "608481"
         ],
         "xaxis": "x",
         "y": [
          1,
          3,
          3,
          2,
          1,
          3,
          3,
          2,
          2,
          1,
          6,
          3,
          6,
          5,
          1,
          3,
          5,
          5,
          1,
          2,
          1,
          2,
          3,
          2,
          5,
          2,
          1,
          2,
          1,
          1,
          3,
          2,
          2,
          3,
          2,
          1,
          3,
          1,
          1,
          1,
          1,
          2,
          2,
          1,
          2,
          1,
          1,
          1,
          2,
          1,
          1,
          1,
          1,
          1,
          2,
          1,
          2,
          2,
          2,
          1,
          1,
          1,
          2,
          1,
          1,
          2,
          1
         ],
         "yaxis": "y"
        }
       ],
       "layout": {
        "barmode": "relative",
        "height": 700,
        "legend": {
         "title": {
          "text": "Category"
         },
         "tracegroupgap": 0
        },
        "plot_bgcolor": "white",
        "template": {
         "data": {
          "bar": [
           {
            "error_x": {
             "color": "#2a3f5f"
            },
            "error_y": {
             "color": "#2a3f5f"
            },
            "marker": {
             "line": {
              "color": "#E5ECF6",
              "width": 0.5
             },
             "pattern": {
              "fillmode": "overlay",
              "size": 10,
              "solidity": 0.2
             }
            },
            "type": "bar"
           }
          ],
          "barpolar": [
           {
            "marker": {
             "line": {
              "color": "#E5ECF6",
              "width": 0.5
             },
             "pattern": {
              "fillmode": "overlay",
              "size": 10,
              "solidity": 0.2
             }
            },
            "type": "barpolar"
           }
          ],
          "carpet": [
           {
            "aaxis": {
             "endlinecolor": "#2a3f5f",
             "gridcolor": "white",
             "linecolor": "white",
             "minorgridcolor": "white",
             "startlinecolor": "#2a3f5f"
            },
            "baxis": {
             "endlinecolor": "#2a3f5f",
             "gridcolor": "white",
             "linecolor": "white",
             "minorgridcolor": "white",
             "startlinecolor": "#2a3f5f"
            },
            "type": "carpet"
           }
          ],
          "choropleth": [
           {
            "colorbar": {
             "outlinewidth": 0,
             "ticks": ""
            },
            "type": "choropleth"
           }
          ],
          "contour": [
           {
            "colorbar": {
             "outlinewidth": 0,
             "ticks": ""
            },
            "colorscale": [
             [
              0,
              "#0d0887"
             ],
             [
              0.1111111111111111,
              "#46039f"
             ],
             [
              0.2222222222222222,
              "#7201a8"
             ],
             [
              0.3333333333333333,
              "#9c179e"
             ],
             [
              0.4444444444444444,
              "#bd3786"
             ],
             [
              0.5555555555555556,
              "#d8576b"
             ],
             [
              0.6666666666666666,
              "#ed7953"
             ],
             [
              0.7777777777777778,
              "#fb9f3a"
             ],
             [
              0.8888888888888888,
              "#fdca26"
             ],
             [
              1,
              "#f0f921"
             ]
            ],
            "type": "contour"
           }
          ],
          "contourcarpet": [
           {
            "colorbar": {
             "outlinewidth": 0,
             "ticks": ""
            },
            "type": "contourcarpet"
           }
          ],
          "heatmap": [
           {
            "colorbar": {
             "outlinewidth": 0,
             "ticks": ""
            },
            "colorscale": [
             [
              0,
              "#0d0887"
             ],
             [
              0.1111111111111111,
              "#46039f"
             ],
             [
              0.2222222222222222,
              "#7201a8"
             ],
             [
              0.3333333333333333,
              "#9c179e"
             ],
             [
              0.4444444444444444,
              "#bd3786"
             ],
             [
              0.5555555555555556,
              "#d8576b"
             ],
             [
              0.6666666666666666,
              "#ed7953"
             ],
             [
              0.7777777777777778,
              "#fb9f3a"
             ],
             [
              0.8888888888888888,
              "#fdca26"
             ],
             [
              1,
              "#f0f921"
             ]
            ],
            "type": "heatmap"
           }
          ],
          "heatmapgl": [
           {
            "colorbar": {
             "outlinewidth": 0,
             "ticks": ""
            },
            "colorscale": [
             [
              0,
              "#0d0887"
             ],
             [
              0.1111111111111111,
              "#46039f"
             ],
             [
              0.2222222222222222,
              "#7201a8"
             ],
             [
              0.3333333333333333,
              "#9c179e"
             ],
             [
              0.4444444444444444,
              "#bd3786"
             ],
             [
              0.5555555555555556,
              "#d8576b"
             ],
             [
              0.6666666666666666,
              "#ed7953"
             ],
             [
              0.7777777777777778,
              "#fb9f3a"
             ],
             [
              0.8888888888888888,
              "#fdca26"
             ],
             [
              1,
              "#f0f921"
             ]
            ],
            "type": "heatmapgl"
           }
          ],
          "histogram": [
           {
            "marker": {
             "pattern": {
              "fillmode": "overlay",
              "size": 10,
              "solidity": 0.2
             }
            },
            "type": "histogram"
           }
          ],
          "histogram2d": [
           {
            "colorbar": {
             "outlinewidth": 0,
             "ticks": ""
            },
            "colorscale": [
             [
              0,
              "#0d0887"
             ],
             [
              0.1111111111111111,
              "#46039f"
             ],
             [
              0.2222222222222222,
              "#7201a8"
             ],
             [
              0.3333333333333333,
              "#9c179e"
             ],
             [
              0.4444444444444444,
              "#bd3786"
             ],
             [
              0.5555555555555556,
              "#d8576b"
             ],
             [
              0.6666666666666666,
              "#ed7953"
             ],
             [
              0.7777777777777778,
              "#fb9f3a"
             ],
             [
              0.8888888888888888,
              "#fdca26"
             ],
             [
              1,
              "#f0f921"
             ]
            ],
            "type": "histogram2d"
           }
          ],
          "histogram2dcontour": [
           {
            "colorbar": {
             "outlinewidth": 0,
             "ticks": ""
            },
            "colorscale": [
             [
              0,
              "#0d0887"
             ],
             [
              0.1111111111111111,
              "#46039f"
             ],
             [
              0.2222222222222222,
              "#7201a8"
             ],
             [
              0.3333333333333333,
              "#9c179e"
             ],
             [
              0.4444444444444444,
              "#bd3786"
             ],
             [
              0.5555555555555556,
              "#d8576b"
             ],
             [
              0.6666666666666666,
              "#ed7953"
             ],
             [
              0.7777777777777778,
              "#fb9f3a"
             ],
             [
              0.8888888888888888,
              "#fdca26"
             ],
             [
              1,
              "#f0f921"
             ]
            ],
            "type": "histogram2dcontour"
           }
          ],
          "mesh3d": [
           {
            "colorbar": {
             "outlinewidth": 0,
             "ticks": ""
            },
            "type": "mesh3d"
           }
          ],
          "parcoords": [
           {
            "line": {
             "colorbar": {
              "outlinewidth": 0,
              "ticks": ""
             }
            },
            "type": "parcoords"
           }
          ],
          "pie": [
           {
            "automargin": true,
            "type": "pie"
           }
          ],
          "scatter": [
           {
            "fillpattern": {
             "fillmode": "overlay",
             "size": 10,
             "solidity": 0.2
            },
            "type": "scatter"
           }
          ],
          "scatter3d": [
           {
            "line": {
             "colorbar": {
              "outlinewidth": 0,
              "ticks": ""
             }
            },
            "marker": {
             "colorbar": {
              "outlinewidth": 0,
              "ticks": ""
             }
            },
            "type": "scatter3d"
           }
          ],
          "scattercarpet": [
           {
            "marker": {
             "colorbar": {
              "outlinewidth": 0,
              "ticks": ""
             }
            },
            "type": "scattercarpet"
           }
          ],
          "scattergeo": [
           {
            "marker": {
             "colorbar": {
              "outlinewidth": 0,
              "ticks": ""
             }
            },
            "type": "scattergeo"
           }
          ],
          "scattergl": [
           {
            "marker": {
             "colorbar": {
              "outlinewidth": 0,
              "ticks": ""
             }
            },
            "type": "scattergl"
           }
          ],
          "scattermapbox": [
           {
            "marker": {
             "colorbar": {
              "outlinewidth": 0,
              "ticks": ""
             }
            },
            "type": "scattermapbox"
           }
          ],
          "scatterpolar": [
           {
            "marker": {
             "colorbar": {
              "outlinewidth": 0,
              "ticks": ""
             }
            },
            "type": "scatterpolar"
           }
          ],
          "scatterpolargl": [
           {
            "marker": {
             "colorbar": {
              "outlinewidth": 0,
              "ticks": ""
             }
            },
            "type": "scatterpolargl"
           }
          ],
          "scatterternary": [
           {
            "marker": {
             "colorbar": {
              "outlinewidth": 0,
              "ticks": ""
             }
            },
            "type": "scatterternary"
           }
          ],
          "surface": [
           {
            "colorbar": {
             "outlinewidth": 0,
             "ticks": ""
            },
            "colorscale": [
             [
              0,
              "#0d0887"
             ],
             [
              0.1111111111111111,
              "#46039f"
             ],
             [
              0.2222222222222222,
              "#7201a8"
             ],
             [
              0.3333333333333333,
              "#9c179e"
             ],
             [
              0.4444444444444444,
              "#bd3786"
             ],
             [
              0.5555555555555556,
              "#d8576b"
             ],
             [
              0.6666666666666666,
              "#ed7953"
             ],
             [
              0.7777777777777778,
              "#fb9f3a"
             ],
             [
              0.8888888888888888,
              "#fdca26"
             ],
             [
              1,
              "#f0f921"
             ]
            ],
            "type": "surface"
           }
          ],
          "table": [
           {
            "cells": {
             "fill": {
              "color": "#EBF0F8"
             },
             "line": {
              "color": "white"
             }
            },
            "header": {
             "fill": {
              "color": "#C8D4E3"
             },
             "line": {
              "color": "white"
             }
            },
            "type": "table"
           }
          ]
         },
         "layout": {
          "annotationdefaults": {
           "arrowcolor": "#2a3f5f",
           "arrowhead": 0,
           "arrowwidth": 1
          },
          "autotypenumbers": "strict",
          "coloraxis": {
           "colorbar": {
            "outlinewidth": 0,
            "ticks": ""
           }
          },
          "colorscale": {
           "diverging": [
            [
             0,
             "#8e0152"
            ],
            [
             0.1,
             "#c51b7d"
            ],
            [
             0.2,
             "#de77ae"
            ],
            [
             0.3,
             "#f1b6da"
            ],
            [
             0.4,
             "#fde0ef"
            ],
            [
             0.5,
             "#f7f7f7"
            ],
            [
             0.6,
             "#e6f5d0"
            ],
            [
             0.7,
             "#b8e186"
            ],
            [
             0.8,
             "#7fbc41"
            ],
            [
             0.9,
             "#4d9221"
            ],
            [
             1,
             "#276419"
            ]
           ],
           "sequential": [
            [
             0,
             "#0d0887"
            ],
            [
             0.1111111111111111,
             "#46039f"
            ],
            [
             0.2222222222222222,
             "#7201a8"
            ],
            [
             0.3333333333333333,
             "#9c179e"
            ],
            [
             0.4444444444444444,
             "#bd3786"
            ],
            [
             0.5555555555555556,
             "#d8576b"
            ],
            [
             0.6666666666666666,
             "#ed7953"
            ],
            [
             0.7777777777777778,
             "#fb9f3a"
            ],
            [
             0.8888888888888888,
             "#fdca26"
            ],
            [
             1,
             "#f0f921"
            ]
           ],
           "sequentialminus": [
            [
             0,
             "#0d0887"
            ],
            [
             0.1111111111111111,
             "#46039f"
            ],
            [
             0.2222222222222222,
             "#7201a8"
            ],
            [
             0.3333333333333333,
             "#9c179e"
            ],
            [
             0.4444444444444444,
             "#bd3786"
            ],
            [
             0.5555555555555556,
             "#d8576b"
            ],
            [
             0.6666666666666666,
             "#ed7953"
            ],
            [
             0.7777777777777778,
             "#fb9f3a"
            ],
            [
             0.8888888888888888,
             "#fdca26"
            ],
            [
             1,
             "#f0f921"
            ]
           ]
          },
          "colorway": [
           "#636efa",
           "#EF553B",
           "#00cc96",
           "#ab63fa",
           "#FFA15A",
           "#19d3f3",
           "#FF6692",
           "#B6E880",
           "#FF97FF",
           "#FECB52"
          ],
          "font": {
           "color": "#2a3f5f"
          },
          "geo": {
           "bgcolor": "white",
           "lakecolor": "white",
           "landcolor": "#E5ECF6",
           "showlakes": true,
           "showland": true,
           "subunitcolor": "white"
          },
          "hoverlabel": {
           "align": "left"
          },
          "hovermode": "closest",
          "mapbox": {
           "style": "light"
          },
          "paper_bgcolor": "white",
          "plot_bgcolor": "#E5ECF6",
          "polar": {
           "angularaxis": {
            "gridcolor": "white",
            "linecolor": "white",
            "ticks": ""
           },
           "bgcolor": "#E5ECF6",
           "radialaxis": {
            "gridcolor": "white",
            "linecolor": "white",
            "ticks": ""
           }
          },
          "scene": {
           "xaxis": {
            "backgroundcolor": "#E5ECF6",
            "gridcolor": "white",
            "gridwidth": 2,
            "linecolor": "white",
            "showbackground": true,
            "ticks": "",
            "zerolinecolor": "white"
           },
           "yaxis": {
            "backgroundcolor": "#E5ECF6",
            "gridcolor": "white",
            "gridwidth": 2,
            "linecolor": "white",
            "showbackground": true,
            "ticks": "",
            "zerolinecolor": "white"
           },
           "zaxis": {
            "backgroundcolor": "#E5ECF6",
            "gridcolor": "white",
            "gridwidth": 2,
            "linecolor": "white",
            "showbackground": true,
            "ticks": "",
            "zerolinecolor": "white"
           }
          },
          "shapedefaults": {
           "line": {
            "color": "#2a3f5f"
           }
          },
          "ternary": {
           "aaxis": {
            "gridcolor": "white",
            "linecolor": "white",
            "ticks": ""
           },
           "baxis": {
            "gridcolor": "white",
            "linecolor": "white",
            "ticks": ""
           },
           "bgcolor": "#E5ECF6",
           "caxis": {
            "gridcolor": "white",
            "linecolor": "white",
            "ticks": ""
           }
          },
          "title": {
           "x": 0.05
          },
          "xaxis": {
           "automargin": true,
           "gridcolor": "white",
           "linecolor": "white",
           "ticks": "",
           "title": {
            "standoff": 15
           },
           "zerolinecolor": "white",
           "zerolinewidth": 2
          },
          "yaxis": {
           "automargin": true,
           "gridcolor": "white",
           "linecolor": "white",
           "ticks": "",
           "title": {
            "standoff": 15
           },
           "zerolinecolor": "white",
           "zerolinewidth": 2
          }
         }
        },
        "title": {
         "text": "False Positive Synapse Classification by Annotators",
         "x": 0.5,
         "xanchor": "center"
        },
        "width": 1000,
        "xaxis": {
         "anchor": "y",
         "autorange": true,
         "categoryorder": "total descending",
         "domain": [
          0,
          1
         ],
         "range": [
          -0.5,
          108.5
         ],
         "title": {
          "text": "Postsynapse Skeleton ID"
         },
         "type": "category"
        },
        "yaxis": {
         "anchor": "x",
         "autorange": true,
         "domain": [
          0,
          1
         ],
         "gridcolor": "lightgray",
         "gridwidth": 1,
         "range": [
          0,
          6.315789473684211
         ],
         "showgrid": true,
         "title": {
          "text": "Number of Annotations per Neuron"
         },
         "type": "linear"
        }
       }
      },
      "image/png": "[encoded data removed]",
      "text/html": [
       "<div>                            <div id=\"12b1443f-76b4-4f16-921e-c1cb4d1f6f22\" class=\"plotly-graph-div\" style=\"height:700px; width:1000px;\"></div>            <script type=\"text/javascript\">                require([\"plotly\"], function(Plotly) {                    window.PLOTLYENV=window.PLOTLYENV || {};                                    if (document.getElementById(\"12b1443f-76b4-4f16-921e-c1cb4d1f6f22\")) {                    Plotly.newPlot(                        \"12b1443f-76b4-4f16-921e-c1cb4d1f6f22\",                        [{\"alignmentgroup\":\"True\",\"customdata\":[[\"acs\",6.0],[\"ad\",6.0],[\"acs, mc, sh, syl\",6.0],[\"mc, sh, syl\",6.0],[\"acs, ad, mc, mr, syl\",6.0],[\"ad, mc, sh, syl\",6.0],[\"acs, ad, mc, mr, sh, syl\",6.0],[\"acs, ad, mc, mr, sh, syl\",6.0],[\"mc, sh, syl\",6.0],[\"ad, mc, syl\",6.0],[\"ad, mc, sh, syl\",6.0],[\"acs, ad, mc, mr, syl\",6.0],[\"ad, mc, mr, syl\",6.0],[\"ad, mc, sh\",5.0],[\"mc, sh\",5.0],[\"mr, sh\",5.0],[\"sh\",5.0],[\"mr, sh\",5.0],[\"acs, mc, sh\",5.0],[\"mc\",5.0],[\"acs, mc, sh, syl\",5.0],[\"acs, ad, mr, sh, syl\",5.0],[\"acs, sh, syl\",5.0],[\"acs, mc, sh, syl\",5.0],[\"sh\",5.0],[\"acs\",4.0],[\"acs, ad\",4.0],[\"acs, ad, mc, sh\",4.0],[\"acs, ad, mc\",4.0],[\"acs, mc\",4.0],[\"acs, mc, sh\",4.0],[\"acs, mc, sh\",4.0],[\"sh\",4.0],[\"acs\",3.0],[\"acs, ad, mr\",3.0],[\"acs, mr\",3.0],[\"acs, ad, mc\",3.0],[\"acs\",3.0],[\"acs, sh\",3.0],[\"ad\",3.0],[\"acs\",3.0],[\"acs, sh\",3.0],[\"acs, ad, sh\",3.0],[\"acs, ad, sh\",3.0],[\"acs, ad, sh\",3.0],[\"mr\",2.0],[\"acs, ad\",2.0],[\"ad\",2.0],[\"acs, ad\",2.0],[\"ad\",2.0],[\"mr\",2.0],[\"acs\",2.0],[\"acs\",2.0],[\"acs\",2.0],[\"acs, mr\",2.0],[\"acs, mr\",2.0],[\"acs\",2.0],[\"acs, ad\",2.0],[\"acs, ad\",2.0],[\"acs, ad\",2.0],[\"acs, ad\",2.0],[\"acs, ad\",2.0],[\"acs\",2.0],[\"acs\",2.0],[\"acs, ad\",2.0],[\"acs\",2.0],[\"acs\",2.0]],\"hovertemplate\":\"Category=correct\\u003cbr\\u003eskeleton_id=%{x}\\u003cbr\\u003eAnnotation=%{y}\\u003cbr\\u003eAnnotators=%{customdata[0]}\\u003cbr\\u003eannotations_per_neuron=%{customdata[1]}\\u003cextra\\u003e\\u003c\\u002fextra\\u003e\",\"legendgroup\":\"correct\",\"marker\":{\"color\":\"green\",\"pattern\":{\"shape\":\"\"}},\"name\":\"correct\",\"offsetgroup\":\"correct\",\"orientation\":\"v\",\"showlegend\":true,\"textposition\":\"auto\",\"x\":[\"608126\",\"608188\",\"608196\",\"608208\",\"608216\",\"608220\",\"608228\",\"608232\",\"608224\",\"608159\",\"608155\",\"608131\",\"608163\",\"608289\",\"608293\",\"608297\",\"608301\",\"608305\",\"608329\",\"608285\",\"608261\",\"608192\",\"608249\",\"608257\",\"608265\",\"608349\",\"608341\",\"608317\",\"608325\",\"608269\",\"608273\",\"608277\",\"608281\",\"608469\",\"608465\",\"608461\",\"608453\",\"608445\",\"608357\",\"608365\",\"608369\",\"608337\",\"608345\",\"608353\",\"608361\",\"608537\",\"608509\",\"608505\",\"608501\",\"608497\",\"608717\",\"608697\",\"608681\",\"608673\",\"608669\",\"608561\",\"608477\",\"608381\",\"608385\",\"608401\",\"608405\",\"608409\",\"608417\",\"608425\",\"608485\",\"608437\",\"608441\"],\"xaxis\":\"x\",\"y\":[1,1,4,3,5,4,6,6,3,3,4,5,4,3,2,2,1,2,3,1,4,5,3,4,1,1,2,4,3,2,3,3,1,1,3,2,3,1,2,1,1,2,3,3,3,1,2,1,2,1,1,1,1,1,2,2,1,2,2,2,2,2,1,1,2,1,1],\"yaxis\":\"y\",\"type\":\"bar\"},{\"alignmentgroup\":\"True\",\"customdata\":[[\"mr, sh, syl\",6.0],[\"ad\",6.0],[\"mr, sh, syl\",6.0],[\"mc, sh, syl\",6.0],[\"acs\",6.0],[\"acs, mc, mr, sh, syl\",6.0],[\"sh\",6.0],[\"acs, mr\",6.0],[\"acs, ad, mr\",6.0],[\"mr, sh, syl\",6.0],[\"mr, sh, syl\",6.0],[\"ad, mc, mr, sh, syl\",6.0],[\"sh\",6.0],[\"mr, sh, syl\",6.0],[\"acs, mr, sh, syl\",6.0],[\"syl\",6.0],[\"acs\",6.0],[\"mr, sh\",6.0],[\"syl\",6.0],[\"ad, mr, syl\",6.0],[\"syl\",6.0],[\"acs\",6.0],[\"acs, ad, mr, sh\",5.0],[\"mr\",5.0],[\"mr\",5.0],[\"sh, syl\",5.0],[\"acs\",5.0],[\"mr\",5.0],[\"ad\",5.0],[\"ad, mc, sh, syl\",5.0],[\"acs, syl\",5.0],[\"acs, mr, sh\",5.0],[\"sh\",4.0],[\"mr, sh\",4.0],[\"ad, sh\",4.0],[\"sh\",4.0],[\"sh\",4.0],[\"acs, ad\",4.0],[\"mr\",3.0],[\"ad\",3.0],[\"mr\",3.0],[\"ad, mr\",3.0],[\"sh\",3.0],[\"ad\",3.0],[\"ad\",3.0],[\"acs\",2.0],[\"acs\",2.0],[\"mr\",2.0],[\"acs\",2.0],[\"mr\",2.0],[\"mr\",2.0],[\"acs, mr\",2.0],[\"acs\",2.0],[\"acs\",2.0],[\"mr\",2.0],[\"acs\",2.0],[\"acs\",2.0],[\"acs, ad\",2.0],[\"ad\",2.0],[\"ad\",2.0],[\"acs\",2.0],[\"ad\",2.0],[\"acs, ad\",2.0],[\"ad\",2.0],[\"ad\",2.0],[\"ad\",2.0],[\"acs\",2.0]],\"hovertemplate\":\"Category=uncertain\\u003cbr\\u003eskeleton_id=%{x}\\u003cbr\\u003eAnnotation=%{y}\\u003cbr\\u003eAnnotators=%{customdata[0]}\\u003cbr\\u003eannotations_per_neuron=%{customdata[1]}\\u003cextra\\u003e\\u003c\\u002fextra\\u003e\",\"legendgroup\":\"uncertain\",\"marker\":{\"color\":\"gold\",\"pattern\":{\"shape\":\"\"}},\"name\":\"uncertain\",\"offsetgroup\":\"uncertain\",\"orientation\":\"v\",\"showlegend\":true,\"textposition\":\"auto\",\"x\":[\"608188\",\"608196\",\"608200\",\"608204\",\"608208\",\"608212\",\"608216\",\"608220\",\"608224\",\"608240\",\"608244\",\"608126\",\"608131\",\"608139\",\"608147\",\"608151\",\"608155\",\"608159\",\"608171\",\"608180\",\"608176\",\"608163\",\"608285\",\"608289\",\"608293\",\"608184\",\"608297\",\"608301\",\"608305\",\"608253\",\"608265\",\"608333\",\"608325\",\"608341\",\"608321\",\"608313\",\"608269\",\"608281\",\"608469\",\"608461\",\"608457\",\"608445\",\"608365\",\"608337\",\"608357\",\"608489\",\"608537\",\"608681\",\"608717\",\"608709\",\"608697\",\"608685\",\"608549\",\"608677\",\"608673\",\"608617\",\"608421\",\"608377\",\"608413\",\"608417\",\"608433\",\"608441\",\"608449\",\"608373\",\"608477\",\"608481\",\"608741\"],\"xaxis\":\"x\",\"y\":[3,1,3,3,1,5,1,2,3,3,3,5,1,3,4,1,1,2,1,3,1,1,4,1,1,2,1,1,1,4,2,3,1,2,2,1,1,2,1,1,1,2,1,1,1,1,1,1,1,1,1,2,1,1,1,1,1,2,1,1,1,1,2,1,1,1,1],\"yaxis\":\"y\",\"type\":\"bar\"},{\"alignmentgroup\":\"True\",\"customdata\":[[\"mr\",6.0],[\"acs, ad, mc\",6.0],[\"acs, ad, mr\",6.0],[\"ad, mr\",6.0],[\"ad\",6.0],[\"acs, ad, mc\",6.0],[\"acs, ad, mc\",6.0],[\"acs, mc\",6.0],[\"ad, mc\",6.0],[\"acs\",6.0],[\"acs, ad, mc, mr, sh, syl\",6.0],[\"acs, ad, mc\",6.0],[\"acs, ad, mc, mr, sh, syl\",6.0],[\"acs, ad, mc, mr, sh\",6.0],[\"mr\",6.0],[\"acs, mc, sh\",6.0],[\"acs, ad, mc, mr, sh\",6.0],[\"acs, ad, mc, mr, sh\",6.0],[\"sh\",6.0],[\"ad, mc\",5.0],[\"acs\",5.0],[\"acs, ad\",5.0],[\"acs, ad, mc\",5.0],[\"acs, mc\",5.0],[\"acs, ad, mc, mr, sh\",5.0],[\"ad, mr\",5.0],[\"ad\",5.0],[\"ad, mc\",5.0],[\"acs\",5.0],[\"ad\",5.0],[\"acs, ad, mr\",5.0],[\"ad, mc\",5.0],[\"ad, mc\",5.0],[\"ad, mr, sh\",4.0],[\"acs, mc\",4.0],[\"ad\",4.0],[\"acs, ad, mc\",4.0],[\"ad\",4.0],[\"ad\",4.0],[\"mc\",4.0],[\"ad\",3.0],[\"ad, sh\",3.0],[\"acs, ad\",3.0],[\"acs\",3.0],[\"acs, mr\",2.0],[\"acs\",2.0],[\"acs\",2.0],[\"acs\",2.0],[\"acs, mr\",2.0],[\"mr\",2.0],[\"mr\",2.0],[\"acs\",2.0],[\"mr\",2.0],[\"mr\",2.0],[\"acs, ad\",2.0],[\"ad\",2.0],[\"acs, ad\",2.0],[\"acs, ad\",2.0],[\"acs, ad\",2.0],[\"acs\",2.0],[\"ad\",2.0],[\"ad\",2.0],[\"acs, ad\",2.0],[\"ad\",2.0],[\"ad\",2.0],[\"acs, ad\",2.0],[\"acs\",2.0]],\"hovertemplate\":\"Category=incorrect\\u003cbr\\u003eskeleton_id=%{x}\\u003cbr\\u003eAnnotation=%{y}\\u003cbr\\u003eAnnotators=%{customdata[0]}\\u003cbr\\u003eannotations_per_neuron=%{customdata[1]}\\u003cextra\\u003e\\u003c\\u002fextra\\u003e\",\"legendgroup\":\"incorrect\",\"marker\":{\"color\":\"red\",\"pattern\":{\"shape\":\"\"}},\"name\":\"incorrect\",\"offsetgroup\":\"incorrect\",\"orientation\":\"v\",\"showlegend\":true,\"textposition\":\"auto\",\"x\":[\"608196\",\"608200\",\"608204\",\"608208\",\"608212\",\"608240\",\"608244\",\"608188\",\"608147\",\"608159\",\"608135\",\"608139\",\"608143\",\"608151\",\"608155\",\"608180\",\"608176\",\"608171\",\"608163\",\"608297\",\"608289\",\"608293\",\"608301\",\"608305\",\"608309\",\"608329\",\"608261\",\"608249\",\"608253\",\"608257\",\"608184\",\"608265\",\"608333\",\"608349\",\"608321\",\"608273\",\"608313\",\"608269\",\"608277\",\"608281\",\"608469\",\"608369\",\"608457\",\"608365\",\"608529\",\"608373\",\"608505\",\"608497\",\"608541\",\"608549\",\"608741\",\"608709\",\"608677\",\"608617\",\"608493\",\"608489\",\"608389\",\"608393\",\"608397\",\"608413\",\"608421\",\"608425\",\"608429\",\"608433\",\"608437\",\"608473\",\"608481\"],\"xaxis\":\"x\",\"y\":[1,3,3,2,1,3,3,2,2,1,6,3,6,5,1,3,5,5,1,2,1,2,3,2,5,2,1,2,1,1,3,2,2,3,2,1,3,1,1,1,1,2,2,1,2,1,1,1,2,1,1,1,1,1,2,1,2,2,2,1,1,1,2,1,1,2,1],\"yaxis\":\"y\",\"type\":\"bar\"}],                        {\"template\":{\"data\":{\"histogram2dcontour\":[{\"type\":\"histogram2dcontour\",\"colorbar\":{\"outlinewidth\":0,\"ticks\":\"\"},\"colorscale\":[[0.0,\"#0d0887\"],[0.1111111111111111,\"#46039f\"],[0.2222222222222222,\"#7201a8\"],[0.3333333333333333,\"#9c179e\"],[0.4444444444444444,\"#bd3786\"],[0.5555555555555556,\"#d8576b\"],[0.6666666666666666,\"#ed7953\"],[0.7777777777777778,\"#fb9f3a\"],[0.8888888888888888,\"#fdca26\"],[1.0,\"#f0f921\"]]}],\"choropleth\":[{\"type\":\"choropleth\",\"colorbar\":{\"outlinewidth\":0,\"ticks\":\"\"}}],\"histogram2d\":[{\"type\":\"histogram2d\",\"colorbar\":{\"outlinewidth\":0,\"ticks\":\"\"},\"colorscale\":[[0.0,\"#0d0887\"],[0.1111111111111111,\"#46039f\"],[0.2222222222222222,\"#7201a8\"],[0.3333333333333333,\"#9c179e\"],[0.4444444444444444,\"#bd3786\"],[0.5555555555555556,\"#d8576b\"],[0.6666666666666666,\"#ed7953\"],[0.7777777777777778,\"#fb9f3a\"],[0.8888888888888888,\"#fdca26\"],[1.0,\"#f0f921\"]]}],\"heatmap\":[{\"type\":\"heatmap\",\"colorbar\":{\"outlinewidth\":0,\"ticks\":\"\"},\"colorscale\":[[0.0,\"#0d0887\"],[0.1111111111111111,\"#46039f\"],[0.2222222222222222,\"#7201a8\"],[0.3333333333333333,\"#9c179e\"],[0.4444444444444444,\"#bd3786\"],[0.5555555555555556,\"#d8576b\"],[0.6666666666666666,\"#ed7953\"],[0.7777777777777778,\"#fb9f3a\"],[0.8888888888888888,\"#fdca26\"],[1.0,\"#f0f921\"]]}],\"heatmapgl\":[{\"type\":\"heatmapgl\",\"colorbar\":{\"outlinewidth\":0,\"ticks\":\"\"},\"colorscale\":[[0.0,\"#0d0887\"],[0.1111111111111111,\"#46039f\"],[0.2222222222222222,\"#7201a8\"],[0.3333333333333333,\"#9c179e\"],[0.4444444444444444,\"#bd3786\"],[0.5555555555555556,\"#d8576b\"],[0.6666666666666666,\"#ed7953\"],[0.7777777777777778,\"#fb9f3a\"],[0.8888888888888888,\"#fdca26\"],[1.0,\"#f0f921\"]]}],\"contourcarpet\":[{\"type\":\"contourcarpet\",\"colorbar\":{\"outlinewidth\":0,\"ticks\":\"\"}}],\"contour\":[{\"type\":\"contour\",\"colorbar\":{\"outlinewidth\":0,\"ticks\":\"\"},\"colorscale\":[[0.0,\"#0d0887\"],[0.1111111111111111,\"#46039f\"],[0.2222222222222222,\"#7201a8\"],[0.3333333333333333,\"#9c179e\"],[0.4444444444444444,\"#bd3786\"],[0.5555555555555556,\"#d8576b\"],[0.6666666666666666,\"#ed7953\"],[0.7777777777777778,\"#fb9f3a\"],[0.8888888888888888,\"#fdca26\"],[1.0,\"#f0f921\"]]}],\"surface\":[{\"type\":\"surface\",\"colorbar\":{\"outlinewidth\":0,\"ticks\":\"\"},\"colorscale\":[[0.0,\"#0d0887\"],[0.1111111111111111,\"#46039f\"],[0.2222222222222222,\"#7201a8\"],[0.3333333333333333,\"#9c179e\"],[0.4444444444444444,\"#bd3786\"],[0.5555555555555556,\"#d8576b\"],[0.6666666666666666,\"#ed7953\"],[0.7777777777777778,\"#fb9f3a\"],[0.8888888888888888,\"#fdca26\"],[1.0,\"#f0f921\"]]}],\"mesh3d\":[{\"type\":\"mesh3d\",\"colorbar\":{\"outlinewidth\":0,\"ticks\":\"\"}}],\"scatter\":[{\"fillpattern\":{\"fillmode\":\"overlay\",\"size\":10,\"solidity\":0.2},\"type\":\"scatter\"}],\"parcoords\":[{\"type\":\"parcoords\",\"line\":{\"colorbar\":{\"outlinewidth\":0,\"ticks\":\"\"}}}],\"scatterpolargl\":[{\"type\":\"scatterpolargl\",\"marker\":{\"colorbar\":{\"outlinewidth\":0,\"ticks\":\"\"}}}],\"bar\":[{\"error_x\":{\"color\":\"#2a3f5f\"},\"error_y\":{\"color\":\"#2a3f5f\"},\"marker\":{\"line\":{\"color\":\"#E5ECF6\",\"width\":0.5},\"pattern\":{\"fillmode\":\"overlay\",\"size\":10,\"solidity\":0.2}},\"type\":\"bar\"}],\"scattergeo\":[{\"type\":\"scattergeo\",\"marker\":{\"colorbar\":{\"outlinewidth\":0,\"ticks\":\"\"}}}],\"scatterpolar\":[{\"type\":\"scatterpolar\",\"marker\":{\"colorbar\":{\"outlinewidth\":0,\"ticks\":\"\"}}}],\"histogram\":[{\"marker\":{\"pattern\":{\"fillmode\":\"overlay\",\"size\":10,\"solidity\":0.2}},\"type\":\"histogram\"}],\"scattergl\":[{\"type\":\"scattergl\",\"marker\":{\"colorbar\":{\"outlinewidth\":0,\"ticks\":\"\"}}}],\"scatter3d\":[{\"type\":\"scatter3d\",\"line\":{\"colorbar\":{\"outlinewidth\":0,\"ticks\":\"\"}},\"marker\":{\"colorbar\":{\"outlinewidth\":0,\"ticks\":\"\"}}}],\"scattermapbox\":[{\"type\":\"scattermapbox\",\"marker\":{\"colorbar\":{\"outlinewidth\":0,\"ticks\":\"\"}}}],\"scatterternary\":[{\"type\":\"scatterternary\",\"marker\":{\"colorbar\":{\"outlinewidth\":0,\"ticks\":\"\"}}}],\"scattercarpet\":[{\"type\":\"scattercarpet\",\"marker\":{\"colorbar\":{\"outlinewidth\":0,\"ticks\":\"\"}}}],\"carpet\":[{\"aaxis\":{\"endlinecolor\":\"#2a3f5f\",\"gridcolor\":\"white\",\"linecolor\":\"white\",\"minorgridcolor\":\"white\",\"startlinecolor\":\"#2a3f5f\"},\"baxis\":{\"endlinecolor\":\"#2a3f5f\",\"gridcolor\":\"white\",\"linecolor\":\"white\",\"minorgridcolor\":\"white\",\"startlinecolor\":\"#2a3f5f\"},\"type\":\"carpet\"}],\"table\":[{\"cells\":{\"fill\":{\"color\":\"#EBF0F8\"},\"line\":{\"color\":\"white\"}},\"header\":{\"fill\":{\"color\":\"#C8D4E3\"},\"line\":{\"color\":\"white\"}},\"type\":\"table\"}],\"barpolar\":[{\"marker\":{\"line\":{\"color\":\"#E5ECF6\",\"width\":0.5},\"pattern\":{\"fillmode\":\"overlay\",\"size\":10,\"solidity\":0.2}},\"type\":\"barpolar\"}],\"pie\":[{\"automargin\":true,\"type\":\"pie\"}]},\"layout\":{\"autotypenumbers\":\"strict\",\"colorway\":[\"#636efa\",\"#EF553B\",\"#00cc96\",\"#ab63fa\",\"#FFA15A\",\"#19d3f3\",\"#FF6692\",\"#B6E880\",\"#FF97FF\",\"#FECB52\"],\"font\":{\"color\":\"#2a3f5f\"},\"hovermode\":\"closest\",\"hoverlabel\":{\"align\":\"left\"},\"paper_bgcolor\":\"white\",\"plot_bgcolor\":\"#E5ECF6\",\"polar\":{\"bgcolor\":\"#E5ECF6\",\"angularaxis\":{\"gridcolor\":\"white\",\"linecolor\":\"white\",\"ticks\":\"\"},\"radialaxis\":{\"gridcolor\":\"white\",\"linecolor\":\"white\",\"ticks\":\"\"}},\"ternary\":{\"bgcolor\":\"#E5ECF6\",\"aaxis\":{\"gridcolor\":\"white\",\"linecolor\":\"white\",\"ticks\":\"\"},\"baxis\":{\"gridcolor\":\"white\",\"linecolor\":\"white\",\"ticks\":\"\"},\"caxis\":{\"gridcolor\":\"white\",\"linecolor\":\"white\",\"ticks\":\"\"}},\"coloraxis\":{\"colorbar\":{\"outlinewidth\":0,\"ticks\":\"\"}},\"colorscale\":{\"sequential\":[[0.0,\"#0d0887\"],[0.1111111111111111,\"#46039f\"],[0.2222222222222222,\"#7201a8\"],[0.3333333333333333,\"#9c179e\"],[0.4444444444444444,\"#bd3786\"],[0.5555555555555556,\"#d8576b\"],[0.6666666666666666,\"#ed7953\"],[0.7777777777777778,\"#fb9f3a\"],[0.8888888888888888,\"#fdca26\"],[1.0,\"#f0f921\"]],\"sequentialminus\":[[0.0,\"#0d0887\"],[0.1111111111111111,\"#46039f\"],[0.2222222222222222,\"#7201a8\"],[0.3333333333333333,\"#9c179e\"],[0.4444444444444444,\"#bd3786\"],[0.5555555555555556,\"#d8576b\"],[0.6666666666666666,\"#ed7953\"],[0.7777777777777778,\"#fb9f3a\"],[0.8888888888888888,\"#fdca26\"],[1.0,\"#f0f921\"]],\"diverging\":[[0,\"#8e0152\"],[0.1,\"#c51b7d\"],[0.2,\"#de77ae\"],[0.3,\"#f1b6da\"],[0.4,\"#fde0ef\"],[0.5,\"#f7f7f7\"],[0.6,\"#e6f5d0\"],[0.7,\"#b8e186\"],[0.8,\"#7fbc41\"],[0.9,\"#4d9221\"],[1,\"#276419\"]]},\"xaxis\":{\"gridcolor\":\"white\",\"linecolor\":\"white\",\"ticks\":\"\",\"title\":{\"standoff\":15},\"zerolinecolor\":\"white\",\"automargin\":true,\"zerolinewidth\":2},\"yaxis\":{\"gridcolor\":\"white\",\"linecolor\":\"white\",\"ticks\":\"\",\"title\":{\"standoff\":15},\"zerolinecolor\":\"white\",\"automargin\":true,\"zerolinewidth\":2},\"scene\":{\"xaxis\":{\"backgroundcolor\":\"#E5ECF6\",\"gridcolor\":\"white\",\"linecolor\":\"white\",\"showbackground\":true,\"ticks\":\"\",\"zerolinecolor\":\"white\",\"gridwidth\":2},\"yaxis\":{\"backgroundcolor\":\"#E5ECF6\",\"gridcolor\":\"white\",\"linecolor\":\"white\",\"showbackground\":true,\"ticks\":\"\",\"zerolinecolor\":\"white\",\"gridwidth\":2},\"zaxis\":{\"backgroundcolor\":\"#E5ECF6\",\"gridcolor\":\"white\",\"linecolor\":\"white\",\"showbackground\":true,\"ticks\":\"\",\"zerolinecolor\":\"white\",\"gridwidth\":2}},\"shapedefaults\":{\"line\":{\"color\":\"#2a3f5f\"}},\"annotationdefaults\":{\"arrowcolor\":\"#2a3f5f\",\"arrowhead\":0,\"arrowwidth\":1},\"geo\":{\"bgcolor\":\"white\",\"landcolor\":\"#E5ECF6\",\"subunitcolor\":\"white\",\"showland\":true,\"showlakes\":true,\"lakecolor\":\"white\"},\"title\":{\"x\":0.05},\"mapbox\":{\"style\":\"light\"}}},\"xaxis\":{\"anchor\":\"y\",\"domain\":[0.0,1.0],\"title\":{\"text\":\"Postsynapse Skeleton ID\"},\"categoryorder\":\"total descending\"},\"yaxis\":{\"anchor\":\"x\",\"domain\":[0.0,1.0],\"title\":{\"text\":\"Number of Annotations per Neuron\"},\"showgrid\":true,\"gridcolor\":\"lightgray\",\"gridwidth\":1},\"legend\":{\"title\":{\"text\":\"Category\"},\"tracegroupgap\":0},\"title\":{\"text\":\"False Positive Synapse Classification by Annotators\",\"x\":0.5,\"xanchor\":\"center\"},\"barmode\":\"relative\",\"width\":1000,\"height\":700,\"plot_bgcolor\":\"white\"},                        {\"responsive\": true}                    ).then(function(){\n",
       "                            \n",
       "var gd = document.getElementById('12b1443f-76b4-4f16-921e-c1cb4d1f6f22');\n",
       "var x = new MutationObserver(function (mutations, observer) {{\n",
       "        var display = window.getComputedStyle(gd).display;\n",
       "        if (!display || display === 'none') {{\n",
       "            console.log([gd, 'removed!']);\n",
       "            Plotly.purge(gd);\n",
       "            observer.disconnect();\n",
       "        }}\n",
       "}});\n",
       "\n",
       "// Listen for the removal of the full notebook cells\n",
       "var notebookContainer = gd.closest('#notebook-container');\n",
       "if (notebookContainer) {{\n",
       "    x.observe(notebookContainer, {childList: true});\n",
       "}}\n",
       "\n",
       "// Listen for the clearing of the current output cell\n",
       "var outputEl = gd.closest('.output');\n",
       "if (outputEl) {{\n",
       "    x.observe(outputEl, {childList: true});\n",
       "}}\n",
       "\n",
       "                        })                };                });            </script>        </div>"
      ]
     },
     "metadata": {},
     "output_type": "display_data"
    }
   ],
   "source": [
    "import pandas as pd\n",
    "import plotly.express as px\n",
    "\n",
    "\n",
    "# Convert to DataFrame\n",
    "df = pd.read_csv('~/Documents/CATMAID/pymaid/9_analysisfromproofread/octo_cube2/classificationocto2.csv')\n",
    "annotators = df.columns[1:-1].tolist()\n",
    "\n",
    "# Remove rows where 'annotations_per_neuron' is less than 1\n",
    "df_filtered = df[df[\"annotations_per_neuron\"] >= 2]\n",
    "\n",
    "# Sort by 'annotations_per_neuron' in descending order\n",
    "df_filtered = df_filtered.sort_values(by=\"annotations_per_neuron\", ascending=False)\n",
    "\n",
    "# Extract annotators (excluding 'skeleton_id' and 'annotations_per_neuron')\n",
    "annotators = df_filtered.columns[1:-1].tolist()\n",
    "\n",
    "# Transform data for visualization\n",
    "df_melted = df_filtered.melt(id_vars=[\"skeleton_id\", \"annotations_per_neuron\"], \n",
    "                             value_vars=annotators, \n",
    "                             var_name=\"Annotator\", \n",
    "                             value_name=\"Category\")\n",
    "\n",
    "# Group by skeleton_id and category to count occurrences and aggregate annotators\n",
    "df_summary = df_melted.groupby([\"skeleton_id\", \"Category\"]).agg(\n",
    "    Annotation=(\"Category\", \"count\"),  # Count occurrences\n",
    "    Annotators=(\"Annotator\", lambda x: \", \".join(sorted(x)))  # List annotators\n",
    ").reset_index()\n",
    "\n",
    "# Merge to keep annotations per neuron\n",
    "df_summary = df_summary.merge(df_filtered[[\"skeleton_id\", \"annotations_per_neuron\"]].drop_duplicates(), on=\"skeleton_id\")\n",
    "\n",
    "# **NEW FIX**: Ensure skeleton_id is sorted by annotations_per_neuron before plotting\n",
    "df_summary = df_summary.sort_values(by=\"annotations_per_neuron\", ascending=False)\n",
    "\n",
    "# Plot with Plotly Express, adding hover text with annotators\n",
    "fig = px.bar(df_summary, \n",
    "             x=\"skeleton_id\", \n",
    "             y=\"Annotation\", \n",
    "             color=\"Category\",\n",
    "             title=\"False Positive Synapse Classification by Annotators\",\n",
    "             color_discrete_map={\"correct\": \"green\", \"uncertain\": \"gold\", \"incorrect\": \"red\"},\n",
    "             hover_data={\"Annotators\": True, \"annotations_per_neuron\": True})\n",
    "\n",
    "# Update layout\n",
    "fig.update_layout(\n",
    "    width=1000, \n",
    "    height=700,\n",
    "    title={\n",
    "        'text': 'False Positive Synapse Classification by Annotators',\n",
    "        'x': 0.5,\n",
    "        'xanchor': 'center'\n",
    "    },\n",
    "    yaxis=dict(\n",
    "        title=\"Number of Annotations per Neuron\",\n",
    "        showgrid=True,\n",
    "        gridcolor='lightgray',\n",
    "        gridwidth=1\n",
    "    ),\n",
    "    xaxis=dict(\n",
    "        title=\"Postsynapse Skeleton ID\",\n",
    "        categoryorder=\"total descending\"  \n",
    "    ),\n",
    "    plot_bgcolor='white'\n",
    ")\n",
    "\n",
    "# Show figure\n",
    "fig.show()\n",
    "fig.write_html(\"annotations_plot.html\")\n"
   ]
  },
  {
   "cell_type": "code",
   "execution_count": 54,
   "id": "2d88db3f-0cef-416f-9253-b12a36663f6e",
   "metadata": {},
   "outputs": [
    {
     "data": {
      "text/html": [
       "<div>\n",
       "<style scoped>\n",
       "    .dataframe tbody tr th:only-of-type {\n",
       "        vertical-align: middle;\n",
       "    }\n",
       "\n",
       "    .dataframe tbody tr th {\n",
       "        vertical-align: top;\n",
       "    }\n",
       "\n",
       "    .dataframe thead th {\n",
       "        text-align: right;\n",
       "    }\n",
       "</style>\n",
       "<table border=\"1\" class=\"dataframe\">\n",
       "  <thead>\n",
       "    <tr style=\"text-align: right;\">\n",
       "      <th></th>\n",
       "      <th>skeleton_id</th>\n",
       "      <th>acs</th>\n",
       "      <th>ad</th>\n",
       "      <th>mc</th>\n",
       "      <th>mr</th>\n",
       "      <th>sh</th>\n",
       "      <th>syl</th>\n",
       "      <th>annotations_per_neuron</th>\n",
       "      <th>confidence_level</th>\n",
       "      <th>closest_assumption</th>\n",
       "    </tr>\n",
       "  </thead>\n",
       "  <tbody>\n",
       "    <tr>\n",
       "      <th>0</th>\n",
       "      <td>annotations_per_user</td>\n",
       "      <td>153</td>\n",
       "      <td>94</td>\n",
       "      <td>49</td>\n",
       "      <td>107</td>\n",
       "      <td>59</td>\n",
       "      <td>33</td>\n",
       "      <td>NaN</td>\n",
       "      <td>not enough data</td>\n",
       "      <td>NaN</td>\n",
       "    </tr>\n",
       "    <tr>\n",
       "      <th>1</th>\n",
       "      <td>608126</td>\n",
       "      <td>correct</td>\n",
       "      <td>uncertain</td>\n",
       "      <td>uncertain</td>\n",
       "      <td>uncertain</td>\n",
       "      <td>uncertain</td>\n",
       "      <td>uncertain</td>\n",
       "      <td>6.0</td>\n",
       "      <td>0.583333</td>\n",
       "      <td>ad</td>\n",
       "    </tr>\n",
       "    <tr>\n",
       "      <th>2</th>\n",
       "      <td>608131</td>\n",
       "      <td>correct</td>\n",
       "      <td>correct</td>\n",
       "      <td>correct</td>\n",
       "      <td>correct</td>\n",
       "      <td>uncertain</td>\n",
       "      <td>correct</td>\n",
       "      <td>6.0</td>\n",
       "      <td>0.916667</td>\n",
       "      <td>acs</td>\n",
       "    </tr>\n",
       "    <tr>\n",
       "      <th>3</th>\n",
       "      <td>608135</td>\n",
       "      <td>incorrect</td>\n",
       "      <td>incorrect</td>\n",
       "      <td>incorrect</td>\n",
       "      <td>incorrect</td>\n",
       "      <td>incorrect</td>\n",
       "      <td>incorrect</td>\n",
       "      <td>6.0</td>\n",
       "      <td>0.0</td>\n",
       "      <td>acs</td>\n",
       "    </tr>\n",
       "    <tr>\n",
       "      <th>4</th>\n",
       "      <td>608139</td>\n",
       "      <td>incorrect</td>\n",
       "      <td>incorrect</td>\n",
       "      <td>incorrect</td>\n",
       "      <td>uncertain</td>\n",
       "      <td>uncertain</td>\n",
       "      <td>uncertain</td>\n",
       "      <td>6.0</td>\n",
       "      <td>0.25</td>\n",
       "      <td>acs</td>\n",
       "    </tr>\n",
       "    <tr>\n",
       "      <th>...</th>\n",
       "      <td>...</td>\n",
       "      <td>...</td>\n",
       "      <td>...</td>\n",
       "      <td>...</td>\n",
       "      <td>...</td>\n",
       "      <td>...</td>\n",
       "      <td>...</td>\n",
       "      <td>...</td>\n",
       "      <td>...</td>\n",
       "      <td>...</td>\n",
       "    </tr>\n",
       "    <tr>\n",
       "      <th>282</th>\n",
       "      <td>609262</td>\n",
       "      <td></td>\n",
       "      <td></td>\n",
       "      <td></td>\n",
       "      <td>correct</td>\n",
       "      <td></td>\n",
       "      <td></td>\n",
       "      <td>1.0</td>\n",
       "      <td>not enough data</td>\n",
       "      <td>NaN</td>\n",
       "    </tr>\n",
       "    <tr>\n",
       "      <th>283</th>\n",
       "      <td>609266</td>\n",
       "      <td></td>\n",
       "      <td></td>\n",
       "      <td></td>\n",
       "      <td>uncertain</td>\n",
       "      <td></td>\n",
       "      <td></td>\n",
       "      <td>1.0</td>\n",
       "      <td>not enough data</td>\n",
       "      <td>NaN</td>\n",
       "    </tr>\n",
       "    <tr>\n",
       "      <th>284</th>\n",
       "      <td>609270</td>\n",
       "      <td></td>\n",
       "      <td></td>\n",
       "      <td></td>\n",
       "      <td></td>\n",
       "      <td></td>\n",
       "      <td></td>\n",
       "      <td>0.0</td>\n",
       "      <td>not enough data</td>\n",
       "      <td>NaN</td>\n",
       "    </tr>\n",
       "    <tr>\n",
       "      <th>285</th>\n",
       "      <td>609274</td>\n",
       "      <td></td>\n",
       "      <td></td>\n",
       "      <td></td>\n",
       "      <td></td>\n",
       "      <td></td>\n",
       "      <td></td>\n",
       "      <td>0.0</td>\n",
       "      <td>not enough data</td>\n",
       "      <td>NaN</td>\n",
       "    </tr>\n",
       "    <tr>\n",
       "      <th>286</th>\n",
       "      <td>609278</td>\n",
       "      <td></td>\n",
       "      <td></td>\n",
       "      <td></td>\n",
       "      <td></td>\n",
       "      <td></td>\n",
       "      <td></td>\n",
       "      <td>0.0</td>\n",
       "      <td>not enough data</td>\n",
       "      <td>NaN</td>\n",
       "    </tr>\n",
       "  </tbody>\n",
       "</table>\n",
       "<p>287 rows × 10 columns</p>\n",
       "</div>"
      ],
      "text/plain": [
       "              skeleton_id        acs         ad         mc         mr  \\\n",
       "0    annotations_per_user        153         94         49        107   \n",
       "1                  608126    correct  uncertain  uncertain  uncertain   \n",
       "2                  608131    correct    correct    correct    correct   \n",
       "3                  608135  incorrect  incorrect  incorrect  incorrect   \n",
       "4                  608139  incorrect  incorrect  incorrect  uncertain   \n",
       "..                    ...        ...        ...        ...        ...   \n",
       "282                609262                                     correct   \n",
       "283                609266                                   uncertain   \n",
       "284                609270                                               \n",
       "285                609274                                               \n",
       "286                609278                                               \n",
       "\n",
       "            sh        syl  annotations_per_neuron confidence_level  \\\n",
       "0           59         33                     NaN  not enough data   \n",
       "1    uncertain  uncertain                     6.0         0.583333   \n",
       "2    uncertain    correct                     6.0         0.916667   \n",
       "3    incorrect  incorrect                     6.0              0.0   \n",
       "4    uncertain  uncertain                     6.0             0.25   \n",
       "..         ...        ...                     ...              ...   \n",
       "282                                           1.0  not enough data   \n",
       "283                                           1.0  not enough data   \n",
       "284                                           0.0  not enough data   \n",
       "285                                           0.0  not enough data   \n",
       "286                                           0.0  not enough data   \n",
       "\n",
       "    closest_assumption  \n",
       "0                  NaN  \n",
       "1                   ad  \n",
       "2                  acs  \n",
       "3                  acs  \n",
       "4                  acs  \n",
       "..                 ...  \n",
       "282                NaN  \n",
       "283                NaN  \n",
       "284                NaN  \n",
       "285                NaN  \n",
       "286                NaN  \n",
       "\n",
       "[287 rows x 10 columns]"
      ]
     },
     "metadata": {},
     "output_type": "display_data"
    }
   ],
   "source": [
    "import pandas as pd\n",
    "import numpy as np\n",
    "\n",
    "df= final_df \n",
    "\n",
    "# Mapping for confidence values\n",
    "confidence_mapping = {'correct': 1, 'uncertain': 0.5, 'incorrect': 0}\n",
    "\n",
    "# Function to calculate confidence\n",
    "def calculate_confidence(row):\n",
    "    values = [confidence_mapping.get(v, np.nan) for v in row[['acs', 'ad', 'mc', 'mr', 'sh', 'syl']]]\n",
    "    values = [v for v in values if not np.isnan(v)]\n",
    "    if len(values) >= 2:\n",
    "        return np.mean(values)\n",
    "    else:\n",
    "        return 'not enough data'\n",
    "\n",
    "# Apply confidence calculation\n",
    "df['confidence_level'] = df.apply(calculate_confidence, axis=1)\n",
    "\n",
    "# Display updated dataframe\n",
    "display(df)\n",
    "\n",
    "df.to_csv('results.csv',index=False)"
   ]
  },
  {
   "cell_type": "code",
   "execution_count": 53,
   "id": "fb2a15e9-8d5e-498d-8846-d2f615868848",
   "metadata": {},
   "outputs": [
    {
     "name": "stdout",
     "output_type": "stream",
     "text": [
      "Annotator average normalized differences: {'acs': 0.5499845392702536, 'ad': 0.582699261522791, 'mc': 0.6129070205157162, 'mr': 0.5699454866121533, 'sh': 0.6218460111317254, 'syl': 0.9077084206116466}\n",
      "\n",
      "Best Annotator: acs with lowest average normalized difference: 0.5500\n"
     ]
    }
   ],
   "source": [
    "df = final_df\n",
    "\n",
    "# Mapping for confidence values\n",
    "confidence_mapping = {'correct': 1, 'uncertain': 0.5, 'incorrect': 0}\n",
    "\n",
    "# Function to calculate confidence\n",
    "def calculate_confidence(row):\n",
    "    values = [confidence_mapping.get(v, np.nan) for v in row[['acs', 'ad', 'mc', 'mr', 'sh', 'syl']]]\n",
    "    values = [v for v in values if not np.isnan(v)]\n",
    "    if len(values) >= 2:\n",
    "        return np.mean(values)\n",
    "    else:\n",
    "        return np.nan\n",
    "\n",
    "# Apply confidence calculation\n",
    "df['confidence_level'] = df.apply(calculate_confidence, axis=1)\n",
    "\n",
    "# Calculate average normalized difference per annotator\n",
    "annotators = ['acs', 'ad', 'mc', 'mr', 'sh', 'syl']\n",
    "avg_diffs = {}\n",
    "\n",
    "for annotator in annotators:\n",
    "    diffs = []\n",
    "    for _, row in df.iterrows():\n",
    "        if isinstance(row['confidence_level'], float) and row['confidence_level'] > 0:\n",
    "            annotator_value = confidence_mapping.get(row[annotator], np.nan)\n",
    "            if not np.isnan(annotator_value):\n",
    "                dif = abs(annotator_value - row['confidence_level']) / row['confidence_level']\n",
    "                diffs.append(dif)\n",
    "    if diffs:\n",
    "        avg_diff = np.mean(diffs)\n",
    "        avg_diffs[annotator] = avg_diff\n",
    "\n",
    "# Determine best annotator (lowest difference)\n",
    "best_annotator = min(avg_diffs, key=avg_diffs.get)\n",
    "\n",
    "# Display results\n",
    "print(\"Annotator average normalized differences:\", avg_diffs)\n",
    "print(f\"\\nBest Annotator: {best_annotator} with lowest average normalized difference: {avg_diffs[best_annotator]:.4f}\")\n"
   ]
  }
 ],
 "metadata": {
  "kernelspec": {
   "display_name": "Python 3 (ipykernel)",
   "language": "python",
   "name": "python3"
  },
  "language_info": {
   "codemirror_mode": {
    "name": "ipython",
    "version": 3
   },
   "file_extension": ".py",
   "mimetype": "text/x-python",
   "name": "python",
   "nbconvert_exporter": "python",
   "pygments_lexer": "ipython3",
   "version": "3.11.9"
  }
 },
 "nbformat": 4,
 "nbformat_minor": 5
}
